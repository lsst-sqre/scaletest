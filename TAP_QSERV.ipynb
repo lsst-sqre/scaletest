{
 "cells": [
  {
   "cell_type": "markdown",
   "id": "5170fc53-d8bb-49f1-a0ae-1cf2c83405aa",
   "metadata": {},
   "source": [
    "Randomised TAP con search query on Qserv (DP0.2) --FE"
   ]
  },
  {
   "cell_type": "code",
   "execution_count": null,
   "id": "d23fe0e5-c68b-40de-8b0a-4e6f809fd4e7",
   "metadata": {},
   "outputs": [],
   "source": [
    "from random import randrange, uniform\n",
    "from lsst.rsp import get_tap_service, retrieve_query\n"
   ]
  },
  {
   "cell_type": "code",
   "execution_count": null,
   "id": "fdb65888-ec4a-4e66-93a6-f26ec698c702",
   "metadata": {},
   "outputs": [],
   "source": [
    "service = get_tap_service(\"tap\")"
   ]
  },
  {
   "cell_type": "code",
   "execution_count": null,
   "id": "759c1af0-7b4f-4cbb-b9ee-c1850f059835",
   "metadata": {},
   "outputs": [],
   "source": [
    "# Manipulate radius range for more/less load. \n",
    "# Radius time estimates (for the query, excluding results fetch)\n",
    "# 1 degree ~ 30 seconds\n",
    "# 5 degrees ~ 3 minutes\n",
    "# 10 degrees ~ \n",
    "\n",
    "radius = uniform(1,1.1)"
   ]
  },
  {
   "cell_type": "code",
   "execution_count": null,
   "id": "cd4d0f21-bbe0-4433-90d3-bd9819fea198",
   "metadata": {},
   "outputs": [],
   "source": [
    "ra = uniform(52, 70)\n",
    "dec = uniform(-45,-27)\n",
    "\n",
    "print (ra, dec, radius)\n",
    "\n",
    "str_center_coords = str(ra) + \", \" + str(dec)\n",
    "str_radius = str(radius)"
   ]
  },
  {
   "cell_type": "code",
   "execution_count": null,
   "id": "3e2b2a88-2a70-4960-b563-017a0a82fe34",
   "metadata": {},
   "outputs": [],
   "source": [
    "query = \"SELECT coord_ra, coord_dec \"\\\n",
    "        \"FROM dp02_dc2_catalogs.Object \"\\\n",
    "        \"WHERE CONTAINS(POINT('ICRS', coord_ra, coord_dec), \"\\\n",
    "        \"CIRCLE('ICRS', \" + str_center_coords + \", \" + str_radius + \")) = 1 \"\\\n",
    "        \"AND detect_isPrimary = 1\"\n",
    "print(query)"
   ]
  },
  {
   "cell_type": "code",
   "execution_count": null,
   "id": "14066ad4-72b8-492e-8eff-4fd0c926b02b",
   "metadata": {},
   "outputs": [],
   "source": [
    "job = service.submit_job(query)\n",
    "job.run()\n",
    "job.wait(phases=['COMPLETED', 'ERROR'])\n",
    "print('Job phase is', job.phase)"
   ]
  },
  {
   "cell_type": "code",
   "execution_count": null,
   "id": "9db5ede0-ad28-4429-b00c-822dec212e91",
   "metadata": {},
   "outputs": [],
   "source": [
    "# results = job.fetch_result().to_table().to_pandas()\n",
    "results = job.fetch_result()\n",
    "print(len(results))"
   ]
  },
  {
   "cell_type": "code",
   "execution_count": null,
   "id": "29c88d5a-03d2-4de9-8841-f509d951e686",
   "metadata": {},
   "outputs": [],
   "source": [
    "type(results)"
   ]
  },
  {
   "cell_type": "code",
   "execution_count": null,
   "id": "b030100b-3ebd-43fc-957a-f5582868b83d",
   "metadata": {},
   "outputs": [],
   "source": []
  }
 ],
 "metadata": {
  "kernelspec": {
   "display_name": "LSST",
   "language": "python",
   "name": "lsst"
  },
  "language_info": {
   "codemirror_mode": {
    "name": "ipython",
    "version": 3
   },
   "file_extension": ".py",
   "mimetype": "text/x-python",
   "name": "python",
   "nbconvert_exporter": "python",
   "pygments_lexer": "ipython3",
   "version": "3.12.10"
  }
 },
 "nbformat": 4,
 "nbformat_minor": 5
}
