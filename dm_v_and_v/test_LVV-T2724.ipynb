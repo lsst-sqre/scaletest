{
 "cells": [
  {
   "cell_type": "markdown",
   "id": "691d56d9-6415-4e51-bf43-00ba275176a8",
   "metadata": {
    "execution": {
     "iopub.execute_input": "2025-08-21T22:57:29.615439Z",
     "iopub.status.busy": "2025-08-21T22:57:29.615075Z",
     "iopub.status.idle": "2025-08-21T22:57:29.618589Z",
     "shell.execute_reply": "2025-08-21T22:57:29.618100Z",
     "shell.execute_reply.started": "2025-08-21T22:57:29.615422Z"
    }
   },
   "source": [
    "## Test case LVV-T2724: \n",
    "\n",
    "### Specification: \n",
    "This test covers two requirements relating to high-volume queries on Qserv\n",
    "\n",
    "#### Requirement: DMS-REQ-0357  (Priority: 1b): Result latency for high-volume full-sky queries on the Object table <br>\n",
    "Specification: High-volume queries on the Object table -- queries that involve full-sky scans -- shall be answered in hvObjectQueryTime.\n",
    "hvObjectQueryTime: Maximum time allowed for retrieving results of a high-volume query of the Object table == 60 minutes\n",
    "\n",
    "#### Requirements ID: DMS-REQ-0361 (Priority: 1b)L Simultaneous users for high-volume queries\n",
    "Specification: The system shall support hvQueryUsers simultaneous high-volume queries running at any given time\n",
    "hvQueryUsers: Minimum number of simultaneous users performing high volume queries == 50 \n",
    "\n",
    "### Discussion:\n",
    "This is a query on Qserv, not the Butler\n",
    "DP1 full scan is teh best we can do 2025-07-22\n",
    "Eventually verify latency against a full scale, e.g DR1 sized Object catalog\n",
    "\n",
    "From ID: DMS-REQ-0356 (Priority: 1b) - a high-volume query shoudl return a result set > 0.5 GB\n",
    "Note: queryResult table result_4430668 is too large at 3203320192 bytes, max allowed size is 3145728000 bytes\n",
    "Mobu will simulate the hvQueryUsers. The script will compare the query time to the spec\n"
   ]
  },
  {
   "cell_type": "code",
   "execution_count": 1,
   "id": "7c788f0b-2916-4f94-9a85-45aab541ec2c",
   "metadata": {
    "execution": {
     "iopub.execute_input": "2025-08-22T19:34:08.747010Z",
     "iopub.status.busy": "2025-08-22T19:34:08.746853Z",
     "iopub.status.idle": "2025-08-22T19:34:08.749521Z",
     "shell.execute_reply": "2025-08-22T19:34:08.749079Z",
     "shell.execute_reply.started": "2025-08-22T19:34:08.746994Z"
    }
   },
   "outputs": [],
   "source": [
    "from lsst.rsp import get_tap_service\n",
    "import time"
   ]
  },
  {
   "cell_type": "code",
   "execution_count": 2,
   "id": "c1c5b112-f5ea-42c2-9811-0d55dc90a9c4",
   "metadata": {
    "execution": {
     "iopub.execute_input": "2025-08-22T19:34:08.751621Z",
     "iopub.status.busy": "2025-08-22T19:34:08.751483Z",
     "iopub.status.idle": "2025-08-22T19:34:08.789482Z",
     "shell.execute_reply": "2025-08-22T19:34:08.788913Z",
     "shell.execute_reply.started": "2025-08-22T19:34:08.751606Z"
    }
   },
   "outputs": [],
   "source": [
    "# Requirements specs\n",
    "\n",
    "# Maximum time allowed for retrieving results of a high-volume query of the Object table (hour)\n",
    "hvObjectQueryTime = 1\n",
    "\n",
    "# Minimum number of simultaneous users performing high volume queries. (mobu)\n",
    "hvQueryUsers = 50 "
   ]
  },
  {
   "cell_type": "code",
   "execution_count": 3,
   "id": "7e37e3dd-df40-4d5d-a497-d5a475906176",
   "metadata": {
    "execution": {
     "iopub.execute_input": "2025-08-22T19:34:08.790280Z",
     "iopub.status.busy": "2025-08-22T19:34:08.790111Z",
     "iopub.status.idle": "2025-08-22T19:34:08.838420Z",
     "shell.execute_reply": "2025-08-22T19:34:08.837942Z",
     "shell.execute_reply.started": "2025-08-22T19:34:08.790266Z"
    }
   },
   "outputs": [],
   "source": [
    "service = get_tap_service(\"tap\")\n",
    "assert service is not None"
   ]
  },
  {
   "cell_type": "code",
   "execution_count": 4,
   "id": "97c79b64-3016-4092-a18a-06d044f6447c",
   "metadata": {
    "execution": {
     "iopub.execute_input": "2025-08-22T19:34:08.839103Z",
     "iopub.status.busy": "2025-08-22T19:34:08.838938Z",
     "iopub.status.idle": "2025-08-22T19:34:08.841513Z",
     "shell.execute_reply": "2025-08-22T19:34:08.841137Z",
     "shell.execute_reply.started": "2025-08-22T19:34:08.839091Z"
    }
   },
   "outputs": [],
   "source": [
    "# Calculate size in gigabytes (GB)\n",
    "def get_size_in_gb(df): \n",
    "    size = df.memory_usage(deep=True).sum()\n",
    "    size /= 1024 ** 3\n",
    "    return size"
   ]
  },
  {
   "cell_type": "code",
   "execution_count": 5,
   "id": "0fb1ebf8-9be7-416f-98ba-9bc249a1c86a",
   "metadata": {
    "editable": true,
    "execution": {
     "iopub.execute_input": "2025-08-22T19:34:08.842139Z",
     "iopub.status.busy": "2025-08-22T19:34:08.841988Z",
     "iopub.status.idle": "2025-08-22T19:34:08.864956Z",
     "shell.execute_reply": "2025-08-22T19:34:08.864507Z",
     "shell.execute_reply.started": "2025-08-22T19:34:08.842125Z"
    },
    "slideshow": {
     "slide_type": ""
    },
    "tags": []
   },
   "outputs": [
    {
     "name": "stdout",
     "output_type": "stream",
     "text": [
      "SELECT *, \n",
      "scisql_nanojanskyToAbMag(r_cModelFlux) as rmag \n",
      "FROM dp1.Object\n",
      "WHERE scisql_nanojanskyToAbMag(r_cModelFlux) < 24\n",
      "\n"
     ]
    }
   ],
   "source": [
    "# High-volume query \n",
    "query = \"\"\"SELECT *, \n",
    "scisql_nanojanskyToAbMag(r_cModelFlux) as rmag \n",
    "FROM dp1.Object\n",
    "WHERE scisql_nanojanskyToAbMag(r_cModelFlux) < 24\n",
    "\"\"\"\n",
    "print(query)"
   ]
  },
  {
   "cell_type": "code",
   "execution_count": 6,
   "id": "0bf3d33e-6a54-4c24-b4c4-6adeb8571e8c",
   "metadata": {
    "execution": {
     "iopub.execute_input": "2025-08-22T19:34:08.865634Z",
     "iopub.status.busy": "2025-08-22T19:34:08.865473Z",
     "iopub.status.idle": "2025-08-22T19:34:09.063056Z",
     "shell.execute_reply": "2025-08-22T19:34:09.062419Z",
     "shell.execute_reply.started": "2025-08-22T19:34:08.865620Z"
    }
   },
   "outputs": [],
   "source": [
    "job = service.submit_job(query)"
   ]
  },
  {
   "cell_type": "code",
   "execution_count": null,
   "id": "44db8e79-e053-4931-b259-a2e8b3bdca42",
   "metadata": {
    "editable": true,
    "execution": {
     "iopub.execute_input": "2025-08-22T19:34:09.064066Z",
     "iopub.status.busy": "2025-08-22T19:34:09.063810Z"
    },
    "slideshow": {
     "slide_type": ""
    },
    "tags": []
   },
   "outputs": [],
   "source": [
    "# t]Benchmark  the part from job run start to successfully returning the result set\n",
    "start_time = time.time()\n",
    "job.run()\n",
    "\n",
    "job.wait(phases=['COMPLETED', 'ERROR'])\n",
    "print('Job phase is', job.phase)\n",
    "\n",
    "if job.phase == 'ERROR':\n",
    "    job.raise_if_error()\n",
    "assert job.phase == 'COMPLETED'\n",
    "\n",
    "results = job.fetch_result()\n",
    "end_time = time.time()"
   ]
  },
  {
   "cell_type": "code",
   "execution_count": null,
   "id": "084d6d62-2efa-43e7-b5fc-16d3ec649ebd",
   "metadata": {},
   "outputs": [],
   "source": [
    "# Run time\n",
    "execution_time = end_time - start_time\n",
    "print(f\"Execution time: {execution_time}\")"
   ]
  },
  {
   "cell_type": "code",
   "execution_count": null,
   "id": "d11cabda-fa65-42ad-bba4-56ba522071c8",
   "metadata": {
    "editable": true,
    "slideshow": {
     "slide_type": ""
    },
    "tags": []
   },
   "outputs": [],
   "source": [
    "# Result set size\n",
    "df = results.to_table().to_pandas()\n",
    "size = get_size_in_gb(df)\n",
    "print(f\"DataFrame size: {size:.2f} GB\")\n",
    "print(df.info(memory_usage='deep'))"
   ]
  },
  {
   "cell_type": "code",
   "execution_count": null,
   "id": "acff8848-4064-49a8-b927-841097037cd8",
   "metadata": {},
   "outputs": [],
   "source": [
    "job.delete()\n",
    "del query, results"
   ]
  },
  {
   "cell_type": "code",
   "execution_count": null,
   "id": "384d1656-01c2-4b75-82bc-1637610c24a6",
   "metadata": {
    "editable": true,
    "slideshow": {
     "slide_type": ""
    },
    "tags": []
   },
   "outputs": [],
   "source": [
    "# Check we are withing spec \n",
    "# assert time_query <= hvObjectQueryTime"
   ]
  }
 ],
 "metadata": {
  "kernelspec": {
   "display_name": "LSST",
   "language": "python",
   "name": "lsst"
  },
  "language_info": {
   "codemirror_mode": {
    "name": "ipython",
    "version": 3
   },
   "file_extension": ".py",
   "mimetype": "text/x-python",
   "name": "python",
   "nbconvert_exporter": "python",
   "pygments_lexer": "ipython3",
   "version": "3.12.11"
  }
 },
 "nbformat": 4,
 "nbformat_minor": 5
}
