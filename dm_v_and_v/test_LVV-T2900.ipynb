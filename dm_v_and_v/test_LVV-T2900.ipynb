{
 "cells": [
  {
   "cell_type": "markdown",
   "id": "691d56d9-6415-4e51-bf43-00ba275176a8",
   "metadata": {
    "editable": true,
    "execution": {
     "iopub.execute_input": "2025-08-21T22:57:29.615439Z",
     "iopub.status.busy": "2025-08-21T22:57:29.615075Z",
     "iopub.status.idle": "2025-08-21T22:57:29.618589Z",
     "shell.execute_reply": "2025-08-21T22:57:29.618100Z",
     "shell.execute_reply.started": "2025-08-21T22:57:29.615422Z"
    },
    "slideshow": {
     "slide_type": ""
    },
    "tags": []
   },
   "source": [
    "### Test case LVV-T2900 - Verify implementation of maximum time to retrieve single-CCD, single visit PVI image\n",
    "DMS-REQ-0374-V-01: Max time to retrieve single-CCD coadd cutout image<br>\n",
    "DMS-REQ-0374-V-02: Satisfies the additional constraint on the number of simultaneous users. \n",
    "\n",
    "\n",
    "### Specification: \n",
    "A Processed Visit Image of a single CCD shall be retrievable using the VO SIAv2\n",
    "protocol within pviRetrievalTime with pviRetrievalUsers simultaneous requests for distinct\n",
    "single-CCD PVIs. PVIs of a single CCD image shall be retrievable in a maximum time of pviRetrievalTime = 10 seconds.\n",
    "\n",
    "### Requirement Parameter\n",
    "pviRetrievalTime = 10[second] Maximum time allowed for retrieving a PVI image of a single CCD from a single visit <br>\n",
    "pviRetrievalUsers = 20[integer] Minimum number of simultaneous users retrieving a single PVI image."
   ]
  },
  {
   "cell_type": "code",
   "execution_count": 1,
   "id": "7c788f0b-2916-4f94-9a85-45aab541ec2c",
   "metadata": {
    "execution": {
     "iopub.execute_input": "2025-10-20T21:37:47.443470Z",
     "iopub.status.busy": "2025-10-20T21:37:47.443259Z",
     "iopub.status.idle": "2025-10-20T21:37:48.069469Z",
     "shell.execute_reply": "2025-10-20T21:37:48.068351Z",
     "shell.execute_reply.started": "2025-10-20T21:37:47.443450Z"
    }
   },
   "outputs": [],
   "source": [
    "import math\n",
    "\n",
    "from lsst.rsp.utils import get_pyvo_auth\n",
    "from lsst.rsp.service import get_siav2_service\n",
    "\n",
    "from lsst.afw.image import ExposureF \n",
    "import lsst.afw.display as afwDisplay\n",
    "import matplotlib.pyplot as plt\n",
    "\n",
    "\n",
    "from pyvo.dal.adhoc import DatalinkResults\n",
    "from astropy import units as u\n",
    "from astropy.time import Time\n",
    "from astropy.coordinates import SkyCoord\n",
    "\n",
    "import time"
   ]
  },
  {
   "cell_type": "code",
   "execution_count": 2,
   "id": "a892a298-8e46-44ad-a43d-9461daf8e55f",
   "metadata": {
    "execution": {
     "iopub.execute_input": "2025-10-20T21:37:48.070394Z",
     "iopub.status.busy": "2025-10-20T21:37:48.069974Z",
     "iopub.status.idle": "2025-10-20T21:37:48.098618Z",
     "shell.execute_reply": "2025-10-20T21:37:48.096974Z",
     "shell.execute_reply.started": "2025-10-20T21:37:48.070371Z"
    }
   },
   "outputs": [],
   "source": [
    "afwDisplay.setDefaultBackend('matplotlib')\n",
    "plt.style.use('tableau-colorblind10')\n",
    "%matplotlib inline"
   ]
  },
  {
   "cell_type": "markdown",
   "id": "287d9f38-4a20-4856-832f-f1e00aeb29a7",
   "metadata": {},
   "source": [
    "### Requirement Specs"
   ]
  },
  {
   "cell_type": "code",
   "execution_count": 3,
   "id": "c1c5b112-f5ea-42c2-9811-0d55dc90a9c4",
   "metadata": {
    "execution": {
     "iopub.execute_input": "2025-10-20T21:37:48.099791Z",
     "iopub.status.busy": "2025-10-20T21:37:48.099498Z",
     "iopub.status.idle": "2025-10-20T21:37:48.103973Z",
     "shell.execute_reply": "2025-10-20T21:37:48.102525Z",
     "shell.execute_reply.started": "2025-10-20T21:37:48.099770Z"
    }
   },
   "outputs": [],
   "source": [
    "# Maximum time allowed for retrieving a CCD-sized coadd cutout., \n",
    "pviRetrievalTime = 10  # seconds\n",
    "\n",
    "# Minimum number of simultaneous users retrieving a single CCD-sized coadd cutout.\n",
    "pviRetrievalUsers = 20 "
   ]
  },
  {
   "cell_type": "code",
   "execution_count": 4,
   "id": "1dd1337c-f109-4201-86cb-70c35ebcf3f5",
   "metadata": {
    "execution": {
     "iopub.execute_input": "2025-10-20T21:37:48.104851Z",
     "iopub.status.busy": "2025-10-20T21:37:48.104603Z",
     "iopub.status.idle": "2025-10-20T21:37:48.126627Z",
     "shell.execute_reply": "2025-10-20T21:37:48.125213Z",
     "shell.execute_reply.started": "2025-10-20T21:37:48.104832Z"
    }
   },
   "outputs": [
    {
     "name": "stdout",
     "output_type": "stream",
     "text": [
      "CCD angular size: 0.22° × 0.22°\n",
      "CCD area: 0.05 deg²\n",
      "Equivalent circular radius: 0.125375°\n"
     ]
    }
   ],
   "source": [
    "# CCD-sized cutout  \n",
    "pixels = 4000          #  4kx4k pixels / CCD\n",
    "pixel_scale_arcsec = 0.2  # arcsec/pixel\n",
    "pixel_scale_deg = pixel_scale_arcsec / 3600 \n",
    "\n",
    "# CCD size in degrees\n",
    "ccd_size_deg = pixels * pixel_scale_deg \n",
    "ccd_area_deg2 = ccd_size_deg ** 2\n",
    "circle_radius_deg = math.sqrt(ccd_area_deg2 / math.pi)\n",
    "\n",
    "print(f\"CCD angular size: {ccd_size_deg:.2f}° × {ccd_size_deg:.2f}°\")\n",
    "print(f\"CCD area: {ccd_area_deg2:.2f} deg²\")\n",
    "print(f\"Equivalent circular radius: {circle_radius_deg:.6f}°\")"
   ]
  },
  {
   "cell_type": "markdown",
   "id": "947937a4-6ff7-4ca7-9bc2-3546b8e8e26d",
   "metadata": {},
   "source": [
    "### Setup services and functions"
   ]
  },
  {
   "cell_type": "code",
   "execution_count": 5,
   "id": "9342434c-0620-4d80-989a-a15ea1c0b35c",
   "metadata": {
    "execution": {
     "iopub.execute_input": "2025-10-20T21:37:48.127593Z",
     "iopub.status.busy": "2025-10-20T21:37:48.127380Z",
     "iopub.status.idle": "2025-10-20T21:37:48.195902Z",
     "shell.execute_reply": "2025-10-20T21:37:48.194226Z",
     "shell.execute_reply.started": "2025-10-20T21:37:48.127575Z"
    }
   },
   "outputs": [],
   "source": [
    "sia_service = get_siav2_service(\"dp1\")\n",
    "assert sia_service is not None"
   ]
  },
  {
   "cell_type": "markdown",
   "id": "c2ab4713-13c3-4842-b227-0b92c2324f60",
   "metadata": {},
   "source": [
    "### Generate an image cutout \n",
    "Use a DP1 r band image in the ECDFS field for a visit image that was obtained between MJD 60623.256 and 60623.259."
   ]
  },
  {
   "cell_type": "code",
   "execution_count": 6,
   "id": "684793ec-e61b-4a99-8c05-4aafa9ba9283",
   "metadata": {
    "execution": {
     "iopub.execute_input": "2025-10-20T21:37:48.196671Z",
     "iopub.status.busy": "2025-10-20T21:37:48.196462Z",
     "iopub.status.idle": "2025-10-20T21:37:48.202610Z",
     "shell.execute_reply": "2025-10-20T21:37:48.201441Z",
     "shell.execute_reply.started": "2025-10-20T21:37:48.196652Z"
    }
   },
   "outputs": [],
   "source": [
    "# Sample region\n",
    "ra_center = 53.0142245373055\n",
    "dec_center = -27.91704870900402\n",
    "lsst_band = 'r'\n",
    "lsst_visit = 2024120500122\n",
    "lsst_detector = 5\n",
    "\n",
    "coords = SkyCoord(ra_center, dec_center, \n",
    "                  unit=(u.deg, u.deg))\n",
    "\n",
    "t1 = Time(\"60650.23384915526\", format='mjd')\n",
    "t2 = Time(\"60650.23420150463\", format='mjd')"
   ]
  },
  {
   "cell_type": "code",
   "execution_count": 7,
   "id": "dd7d3fa1-191b-4813-b129-226af0cd8ed4",
   "metadata": {
    "execution": {
     "iopub.execute_input": "2025-10-20T21:37:48.203527Z",
     "iopub.status.busy": "2025-10-20T21:37:48.203296Z",
     "iopub.status.idle": "2025-10-20T21:37:48.449500Z",
     "shell.execute_reply": "2025-10-20T21:37:48.448170Z",
     "shell.execute_reply.started": "2025-10-20T21:37:48.203510Z"
    }
   },
   "outputs": [],
   "source": [
    "results = sia_service.search(\n",
    "    pos=(coords, 0.1*u.deg),\n",
    "    calib_level=2,\n",
    "    time=[t1, t2]\n",
    ").to_table()"
   ]
  },
  {
   "cell_type": "code",
   "execution_count": 8,
   "id": "ad187018-f56b-4281-9bd1-e31ca4676711",
   "metadata": {
    "execution": {
     "iopub.execute_input": "2025-10-20T21:37:48.450442Z",
     "iopub.status.busy": "2025-10-20T21:37:48.450219Z",
     "iopub.status.idle": "2025-10-20T21:37:48.605345Z",
     "shell.execute_reply": "2025-10-20T21:37:48.604200Z",
     "shell.execute_reply.started": "2025-10-20T21:37:48.450424Z"
    }
   },
   "outputs": [
    {
     "name": "stdout",
     "output_type": "stream",
     "text": [
      "Image URL: https://storage.googleapis.com/butler-us-central1-dp1/DM-51372/LSSTComCam/runs/DRP/DP1/DM-51335/visit_image/20241205/r/r_03/2024120500122/visit_image_LSSTComCam_r_r_03_2024120500122_R22_S12_LSSTComCam_runs_DRP_DP1_DM-51335.fits?AWSAccessKeyId=GOOG1E5Z55TDYI4OC5D7EK2DCLVELD77MINPTREQTFDM2ARHBFX2F25RO5DGW&Signature=Ypts2oD%2FqrotrzgNk54eBQHWiw4%3D&Expires=1760999868\n"
     ]
    }
   ],
   "source": [
    "datalink_url = results[0].get('access_url')\n",
    "dl_result = DatalinkResults.from_result_url(datalink_url,\n",
    "                                            session=get_pyvo_auth())\n",
    "image_url = dl_result.getrecord(0).get('access_url')\n",
    "print(f\"Image URL: {image_url}\")"
   ]
  },
  {
   "cell_type": "markdown",
   "id": "e7a2524f-f276-49d6-8962-4a7c52360f96",
   "metadata": {},
   "source": [
    "### Record the time to retrieve one single-CCD, single visit PVI image via image services\n",
    "This is the code that needs to be scale tested for pviRetrievalUsers (20) simultaneous users"
   ]
  },
  {
   "cell_type": "code",
   "execution_count": 9,
   "id": "947d8604-0bd6-4cb3-b0d6-a0eba54b27d7",
   "metadata": {
    "execution": {
     "iopub.execute_input": "2025-10-20T21:37:48.606353Z",
     "iopub.status.busy": "2025-10-20T21:37:48.606135Z",
     "iopub.status.idle": "2025-10-20T21:37:53.396456Z",
     "shell.execute_reply": "2025-10-20T21:37:53.395410Z",
     "shell.execute_reply.started": "2025-10-20T21:37:48.606335Z"
    }
   },
   "outputs": [],
   "source": [
    "# This is the cell that needs to be benchmarked  for pviRetrievalUsers (20) simultaneous users\n",
    "start = time.time()\n",
    "visit_image = ExposureF(image_url)\n",
    "end = time.time()"
   ]
  },
  {
   "cell_type": "code",
   "execution_count": 10,
   "id": "f55ca72d-face-4fb8-86de-4fb1f10b4b73",
   "metadata": {
    "execution": {
     "iopub.execute_input": "2025-10-20T21:37:53.397726Z",
     "iopub.status.busy": "2025-10-20T21:37:53.397071Z",
     "iopub.status.idle": "2025-10-20T21:37:53.401516Z",
     "shell.execute_reply": "2025-10-20T21:37:53.400614Z",
     "shell.execute_reply.started": "2025-10-20T21:37:53.397692Z"
    }
   },
   "outputs": [
    {
     "name": "stdout",
     "output_type": "stream",
     "text": [
      "Elapsed time: 4.7867 seconds\n"
     ]
    }
   ],
   "source": [
    "elapsed = end - start\n",
    "print(f\"Elapsed time: {elapsed:.4f} seconds\")\n",
    "assert elapsed < pviRetrievalTime"
   ]
  },
  {
   "cell_type": "code",
   "execution_count": null,
   "id": "0447fa60-c7e2-45f1-9748-167b5db14913",
   "metadata": {
    "execution": {
     "iopub.execute_input": "2025-10-20T21:37:53.402426Z",
     "iopub.status.busy": "2025-10-20T21:37:53.402190Z"
    }
   },
   "outputs": [],
   "source": [
    "# Plot image \n",
    "fig = plt.figure()\n",
    "display = afwDisplay.Display(frame=fig)\n",
    "display.scale('asinh', 'zscale')\n",
    "display.mtv(visit_image.image)\n",
    "plt.show()"
   ]
  }
 ],
 "metadata": {
  "kernelspec": {
   "display_name": "LSST",
   "language": "python",
   "name": "lsst"
  },
  "language_info": {
   "codemirror_mode": {
    "name": "ipython",
    "version": 3
   },
   "file_extension": ".py",
   "mimetype": "text/x-python",
   "name": "python",
   "nbconvert_exporter": "python",
   "pygments_lexer": "ipython3",
   "version": "3.13.8"
  }
 },
 "nbformat": 4,
 "nbformat_minor": 5
}
