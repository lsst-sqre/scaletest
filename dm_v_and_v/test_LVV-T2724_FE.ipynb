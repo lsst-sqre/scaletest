{
 "cells": [
  {
   "cell_type": "markdown",
   "id": "691d56d9-6415-4e51-bf43-00ba275176a8",
   "metadata": {
    "execution": {
     "iopub.execute_input": "2025-08-21T22:57:29.615439Z",
     "iopub.status.busy": "2025-08-21T22:57:29.615075Z",
     "iopub.status.idle": "2025-08-21T22:57:29.618589Z",
     "shell.execute_reply": "2025-08-21T22:57:29.618100Z",
     "shell.execute_reply.started": "2025-08-21T22:57:29.615422Z"
    }
   },
   "source": [
    "## Test case LVV-T2724: \n",
    "\n",
    "### Specification: \n",
    "This test covers two requirements relating to high-volume queries on Qserv\n",
    "\n",
    "#### Requirement: DMS-REQ-0357  (Priority: 1b): Result latency for high-volume full-sky queries on the Object table <br>\n",
    "Specification: High-volume queries on the Object table -- queries that involve full-sky scans -- shall be answered in hvObjectQueryTime.\n",
    "hvObjectQueryTime: Maximum time allowed for retrieving results of a high-volume query of the Object table == 60 minutes\n",
    "\n",
    "#### Requirements ID: DMS-REQ-0361 (Priority: 1b)L Simultaneous users for high-volume queries\n",
    "Specification: The system shall support hvQueryUsers simultaneous high-volume queries running at any given time\n",
    "hvQueryUsers: Minimum number of simultaneous users performing high volume queries == 50 \n",
    "\n",
    "### Discussion:\n",
    "This is a query on Qserv, not the Butler\n",
    "DP1 full scan is teh best we can do 2025-07-22\n",
    "Eventually verify latency against a full scale, e.g DR1 sized Object catalog\n",
    "\n",
    "From ID: DMS-REQ-0356 (Priority: 1b) - a high-volume query shoudl return a result set > 0.5 GB\n",
    "Note: queryResult table result_4430668 is too large at 3203320192 bytes, max allowed size is 3145728000 bytes\n",
    "Mobu will simulate the hvQueryUsers. The script will compare the query time to the spec\n"
   ]
  },
  {
   "cell_type": "code",
   "execution_count": null,
   "id": "7c788f0b-2916-4f94-9a85-45aab541ec2c",
   "metadata": {
    "jupyter": {
     "source_hidden": true
    }
   },
   "outputs": [],
   "source": [
    "from lsst.rsp import get_tap_service\n",
    "import time"
   ]
  },
  {
   "cell_type": "code",
   "execution_count": null,
   "id": "c1c5b112-f5ea-42c2-9811-0d55dc90a9c4",
   "metadata": {
    "editable": true,
    "slideshow": {
     "slide_type": ""
    },
    "tags": []
   },
   "outputs": [],
   "source": [
    "# Requirements specs\n",
    "\n",
    "# Maximum time allowed for retrieving results of a high-volume query of the Object table (hour)\n",
    "hvObjectQueryTime = 1 *   60 * 60 # seconds\n",
    "\n",
    "# Minimum number of simultaneous users performing high volume queries. (mobu)\n",
    "hvQueryUsers = 50 "
   ]
  },
  {
   "cell_type": "code",
   "execution_count": null,
   "id": "7e37e3dd-df40-4d5d-a497-d5a475906176",
   "metadata": {},
   "outputs": [],
   "source": [
    "service = get_tap_service(\"tap\")\n",
    "assert service is not None"
   ]
  },
  {
   "cell_type": "code",
   "execution_count": null,
   "id": "97c79b64-3016-4092-a18a-06d044f6447c",
   "metadata": {
    "editable": true,
    "slideshow": {
     "slide_type": ""
    },
    "tags": []
   },
   "outputs": [],
   "source": [
    "# Calculate size in gigabytes (GB)\n",
    "def get_size_in_gb(df): \n",
    "    size = df.memory_usage(deep=True).sum()\n",
    "    size /= 1024 ** 3\n",
    "    return size"
   ]
  },
  {
   "cell_type": "code",
   "execution_count": null,
   "id": "0fb1ebf8-9be7-416f-98ba-9bc249a1c86a",
   "metadata": {
    "editable": true,
    "slideshow": {
     "slide_type": ""
    },
    "tags": []
   },
   "outputs": [],
   "source": [
    "# High-volume query \n",
    "query = \"\"\"SELECT *, \n",
    "scisql_nanojanskyToAbMag(r_cModelFlux) as rmag \n",
    "FROM dp1.Object as o\n",
    "JOIN dp1.ForcedSource AS fs ON o.objectId = fs.objectId\n",
    "WHERE scisql_nanojanskyToAbMag(r_cModelFlux) < 16.5\n",
    "\"\"\"\n",
    "print(query)"
   ]
  },
  {
   "cell_type": "code",
   "execution_count": null,
   "id": "0bf3d33e-6a54-4c24-b4c4-6adeb8571e8c",
   "metadata": {},
   "outputs": [],
   "source": [
    "job = service.submit_job(query)"
   ]
  },
  {
   "cell_type": "code",
   "execution_count": null,
   "id": "44db8e79-e053-4931-b259-a2e8b3bdca42",
   "metadata": {
    "editable": true,
    "slideshow": {
     "slide_type": ""
    },
    "tags": []
   },
   "outputs": [],
   "source": [
    "# t]Benchmark  the part from job run start to successfully returning the result set\n",
    "start_time = time.time()\n",
    "job.run()\n",
    "\n",
    "job.wait(phases=['COMPLETED', 'ERROR'])\n",
    "print('Job phase is', job.phase)\n",
    "\n",
    "if job.phase == 'ERROR':\n",
    "    job.raise_if_error()\n",
    "assert job.phase == 'COMPLETED'\n",
    "\n",
    "results = job.fetch_result()\n",
    "end_time = time.time()"
   ]
  },
  {
   "cell_type": "code",
   "execution_count": null,
   "id": "084d6d62-2efa-43e7-b5fc-16d3ec649ebd",
   "metadata": {},
   "outputs": [],
   "source": [
    "# Run time\n",
    "execution_time = end_time - start_time\n",
    "print(f\"Execution time: {execution_time}\")"
   ]
  },
  {
   "cell_type": "code",
   "execution_count": null,
   "id": "d11cabda-fa65-42ad-bba4-56ba522071c8",
   "metadata": {
    "editable": true,
    "slideshow": {
     "slide_type": ""
    },
    "tags": []
   },
   "outputs": [],
   "source": [
    "# Result set size\n",
    "df = results.to_table().to_pandas()\n",
    "size = get_size_in_gb(df)\n",
    "print(f\"DataFrame size: {size:.2f} GB\")\n",
    "print(df.info(memory_usage='deep'))"
   ]
  },
  {
   "cell_type": "code",
   "execution_count": null,
   "id": "384d1656-01c2-4b75-82bc-1637610c24a6",
   "metadata": {
    "editable": true,
    "slideshow": {
     "slide_type": ""
    },
    "tags": []
   },
   "outputs": [],
   "source": [
    "#Pass spec?\n",
    "print(f\"Query run time {execution_time} : Specification time {hvObjectQueryTime}\")\n",
    "assert execution_time <= hvObjectQueryTime"
   ]
  },
  {
   "cell_type": "code",
   "execution_count": null,
   "id": "acff8848-4064-49a8-b927-841097037cd8",
   "metadata": {},
   "outputs": [],
   "source": [
    "job.delete()\n",
    "del query, results"
   ]
  },
  {
   "cell_type": "code",
   "execution_count": null,
   "id": "b90e262a-fb00-4987-892a-57dad90cac06",
   "metadata": {},
   "outputs": [],
   "source": []
  }
 ],
 "metadata": {
  "kernelspec": {
   "display_name": "LSST",
   "language": "python",
   "name": "lsst"
  },
  "language_info": {
   "codemirror_mode": {
    "name": "ipython",
    "version": 3
   },
   "file_extension": ".py",
   "mimetype": "text/x-python",
   "name": "python",
   "nbconvert_exporter": "python",
   "pygments_lexer": "ipython3",
   "version": "3.12.11"
  }
 },
 "nbformat": 4,
 "nbformat_minor": 5
}
