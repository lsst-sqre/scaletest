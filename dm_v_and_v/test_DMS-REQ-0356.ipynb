{
 "cells": [
  {
   "cell_type": "markdown",
   "id": "8a054786-c7b1-4a2a-98f8-e58c806ab225",
   "metadata": {},
   "source": [
    "### Low-volume queries tests [satisfying Test Cases LVV-T2899, LVV-T3094, LVV-T3171, and LVV-T3170]\n",
    "\n",
    "[LVV-187](https://rubinobs.atlassian.net/browse/LVV-187): DMS-REQ-0356-V-01: Radius for low-volume query\n",
    "\n",
    "[LVV-9785](https://rubinobs.atlassian.net/browse/LVV-9785): DMS-REQ-0356-V-02: Max size of low-volume query results\n",
    "\n",
    "[LVV-9786](https://rubinobs.atlassian.net/browse/LVV-9786): DMS-REQ-0356-V-03: Min number of simultaneous low-volume query users\n",
    "\n",
    "[LVV-9787](https://rubinobs.atlassian.net/browse/LVV-9787): DMS-REQ-0356-V-04: Max time to retrieve low-volume query results\n",
    "\n"
   ]
  },
  {
   "cell_type": "code",
   "execution_count": 3,
   "id": "4de2a358-e3c9-462a-8c05-a0acc8e83ca5",
   "metadata": {
    "execution": {
     "iopub.execute_input": "2025-08-22T01:29:43.440313Z",
     "iopub.status.busy": "2025-08-22T01:29:43.440102Z",
     "iopub.status.idle": "2025-08-22T01:29:43.459950Z",
     "shell.execute_reply": "2025-08-22T01:29:43.459436Z",
     "shell.execute_reply.started": "2025-08-22T01:29:43.440298Z"
    }
   },
   "outputs": [],
   "source": [
    "import time\n",
    "\n",
    "from lsst.rsp import get_tap_service\n",
    "service = get_tap_service('tap')"
   ]
  },
  {
   "cell_type": "markdown",
   "id": "2f987916-4649-4617-8d9e-972fa141bcd3",
   "metadata": {},
   "source": [
    "Query in an area near 47 Tuc so that we get the highest possible density. Also, return all columns from the Object table."
   ]
  },
  {
   "cell_type": "code",
   "execution_count": 2,
   "id": "ef1e14db-3672-472c-904d-e15faf7d92b5",
   "metadata": {
    "execution": {
     "iopub.execute_input": "2025-08-22T01:29:22.901312Z",
     "iopub.status.busy": "2025-08-22T01:29:22.900958Z",
     "iopub.status.idle": "2025-08-22T01:29:22.903721Z",
     "shell.execute_reply": "2025-08-22T01:29:22.903304Z",
     "shell.execute_reply.started": "2025-08-22T01:29:22.901285Z"
    }
   },
   "outputs": [],
   "source": [
    "query = \"\"\"SELECT *\n",
    "       FROM dp1.Object\n",
    "       WHERE CONTAINS(POINT('ICRS', coord_ra, coord_dec), CIRCLE('ICRS', 4.4, -72.3, 0.016666666666666666))=1\n",
    "\"\"\""
   ]
  },
  {
   "cell_type": "code",
   "execution_count": 4,
   "id": "d2759bb0-7fdc-4b89-aaa4-ec1d4e664a0e",
   "metadata": {
    "execution": {
     "iopub.execute_input": "2025-08-22T01:30:21.193212Z",
     "iopub.status.busy": "2025-08-22T01:30:21.192957Z",
     "iopub.status.idle": "2025-08-22T01:30:24.449290Z",
     "shell.execute_reply": "2025-08-22T01:30:24.448689Z",
     "shell.execute_reply.started": "2025-08-22T01:30:21.193192Z"
    }
   },
   "outputs": [
    {
     "name": "stdout",
     "output_type": "stream",
     "text": [
      "Job phase is ERROR\n"
     ]
    },
    {
     "ename": "DALQueryError",
     "evalue": "Query Error: ClassCastException:null",
     "output_type": "error",
     "traceback": [
      "\u001b[0;31m---------------------------------------------------------------------------\u001b[0m",
      "\u001b[0;31mDALQueryError\u001b[0m                             Traceback (most recent call last)",
      "Cell \u001b[0;32mIn[4], line 8\u001b[0m\n\u001b[1;32m      6\u001b[0m \u001b[38;5;28mprint\u001b[39m(\u001b[38;5;124m'\u001b[39m\u001b[38;5;124mJob phase is\u001b[39m\u001b[38;5;124m'\u001b[39m, job\u001b[38;5;241m.\u001b[39mphase)\n\u001b[1;32m      7\u001b[0m \u001b[38;5;28;01mif\u001b[39;00m job\u001b[38;5;241m.\u001b[39mphase \u001b[38;5;241m==\u001b[39m \u001b[38;5;124m'\u001b[39m\u001b[38;5;124mERROR\u001b[39m\u001b[38;5;124m'\u001b[39m:\n\u001b[0;32m----> 8\u001b[0m     \u001b[43mjob\u001b[49m\u001b[38;5;241;43m.\u001b[39;49m\u001b[43mraise_if_error\u001b[49m\u001b[43m(\u001b[49m\u001b[43m)\u001b[49m\n\u001b[1;32m      9\u001b[0m \u001b[38;5;28;01massert\u001b[39;00m job\u001b[38;5;241m.\u001b[39mphase \u001b[38;5;241m==\u001b[39m \u001b[38;5;124m'\u001b[39m\u001b[38;5;124mCOMPLETED\u001b[39m\u001b[38;5;124m'\u001b[39m\n\u001b[1;32m     10\u001b[0m results \u001b[38;5;241m=\u001b[39m job\u001b[38;5;241m.\u001b[39mfetch_result()\u001b[38;5;241m.\u001b[39mto_table()\u001b[38;5;241m.\u001b[39mto_pandas()\n",
      "File \u001b[0;32m/opt/lsst/software/stack/conda/envs/lsst-scipipe-10.1.0/lib/python3.12/site-packages/pyvo/dal/tap.py:1018\u001b[0m, in \u001b[0;36mAsyncTAPJob.raise_if_error\u001b[0;34m(self)\u001b[0m\n\u001b[1;32m   1016\u001b[0m     msg \u001b[38;5;241m=\u001b[39m \u001b[38;5;28mself\u001b[39m\u001b[38;5;241m.\u001b[39m_job\u001b[38;5;241m.\u001b[39merrorsummary\u001b[38;5;241m.\u001b[39mmessage\u001b[38;5;241m.\u001b[39mcontent\n\u001b[1;32m   1017\u001b[0m msg \u001b[38;5;241m=\u001b[39m msg \u001b[38;5;129;01mor\u001b[39;00m \u001b[38;5;124m\"\u001b[39m\u001b[38;5;124m<No useful error from server>\u001b[39m\u001b[38;5;124m\"\u001b[39m\n\u001b[0;32m-> 1018\u001b[0m \u001b[38;5;28;01mraise\u001b[39;00m DALQueryError(\u001b[38;5;124m\"\u001b[39m\u001b[38;5;124mQuery Error: \u001b[39m\u001b[38;5;124m\"\u001b[39m \u001b[38;5;241m+\u001b[39m msg, \u001b[38;5;28mself\u001b[39m\u001b[38;5;241m.\u001b[39murl)\n",
      "\u001b[0;31mDALQueryError\u001b[0m: Query Error: ClassCastException:null"
     ]
    }
   ],
   "source": [
    "start_time = time.time()\n",
    "\n",
    "job = service.submit_job(query)\n",
    "job.run()\n",
    "job.wait(phases=['COMPLETED', 'ERROR'])\n",
    "print('Job phase is', job.phase)\n",
    "if job.phase == 'ERROR':\n",
    "    job.raise_if_error()\n",
    "assert job.phase == 'COMPLETED'\n",
    "results = job.fetch_result().to_table().to_pandas()\n",
    "\n",
    "end_time = time.time()\n",
    "execution_time = end_time - start_time\n",
    "print(f\"Execution time: {execution_time} seconds\")"
   ]
  },
  {
   "cell_type": "code",
   "execution_count": 5,
   "id": "55d50481-f4fd-4882-a14a-abeafc05d458",
   "metadata": {
    "execution": {
     "iopub.execute_input": "2025-08-22T01:30:40.307150Z",
     "iopub.status.busy": "2025-08-22T01:30:40.306919Z",
     "iopub.status.idle": "2025-08-22T01:30:40.317958Z",
     "shell.execute_reply": "2025-08-22T01:30:40.317445Z",
     "shell.execute_reply.started": "2025-08-22T01:30:40.307132Z"
    }
   },
   "outputs": [
    {
     "ename": "NameError",
     "evalue": "name 'results' is not defined",
     "output_type": "error",
     "traceback": [
      "\u001b[0;31m---------------------------------------------------------------------------\u001b[0m",
      "\u001b[0;31mNameError\u001b[0m                                 Traceback (most recent call last)",
      "Cell \u001b[0;32mIn[5], line 1\u001b[0m\n\u001b[0;32m----> 1\u001b[0m \u001b[43mresults\u001b[49m\u001b[38;5;241m.\u001b[39minfo(memory_usage\u001b[38;5;241m=\u001b[39m\u001b[38;5;124m'\u001b[39m\u001b[38;5;124mdeep\u001b[39m\u001b[38;5;124m'\u001b[39m)\n",
      "\u001b[0;31mNameError\u001b[0m: name 'results' is not defined"
     ]
    }
   ],
   "source": [
    "results.info(memory_usage='deep')"
   ]
  },
  {
   "cell_type": "code",
   "execution_count": null,
   "id": "796385cc-9716-4514-bb11-13cfbb65cb88",
   "metadata": {},
   "outputs": [],
   "source": []
  }
 ],
 "metadata": {
  "kernelspec": {
   "display_name": "LSST",
   "language": "python",
   "name": "lsst"
  },
  "language_info": {
   "codemirror_mode": {
    "name": "ipython",
    "version": 3
   },
   "file_extension": ".py",
   "mimetype": "text/x-python",
   "name": "python",
   "nbconvert_exporter": "python",
   "pygments_lexer": "ipython3",
   "version": "3.12.11"
  }
 },
 "nbformat": 4,
 "nbformat_minor": 5
}
