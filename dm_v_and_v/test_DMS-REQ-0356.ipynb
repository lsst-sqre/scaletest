{
 "cells": [
  {
   "cell_type": "markdown",
   "id": "8a054786-c7b1-4a2a-98f8-e58c806ab225",
   "metadata": {},
   "source": [
    "### Low-volume queries tests [satisfying Test Cases LVV-T2899, LVV-T3094, LVV-T3171, and LVV-T3170]\n",
    "\n",
    "[LVV-187](https://rubinobs.atlassian.net/browse/LVV-187): DMS-REQ-0356-V-01: Radius for low-volume query\n",
    "\n",
    "[LVV-9785](https://rubinobs.atlassian.net/browse/LVV-9785): DMS-REQ-0356-V-02: Max size of low-volume query results\n",
    "\n",
    "[LVV-9786](https://rubinobs.atlassian.net/browse/LVV-9786): DMS-REQ-0356-V-03: Min number of simultaneous low-volume query users\n",
    "\n",
    "[LVV-9787](https://rubinobs.atlassian.net/browse/LVV-9787): DMS-REQ-0356-V-04: Max time to retrieve low-volume query results\n",
    "\n"
   ]
  },
  {
   "cell_type": "code",
   "execution_count": 5,
   "id": "4de2a358-e3c9-462a-8c05-a0acc8e83ca5",
   "metadata": {
    "execution": {
     "iopub.execute_input": "2025-08-28T21:17:35.438925Z",
     "iopub.status.busy": "2025-08-28T21:17:35.438425Z",
     "iopub.status.idle": "2025-08-28T21:17:35.475787Z",
     "shell.execute_reply": "2025-08-28T21:17:35.475246Z",
     "shell.execute_reply.started": "2025-08-28T21:17:35.438904Z"
    }
   },
   "outputs": [],
   "source": [
    "import time\n",
    "\n",
    "from lsst.rsp import get_tap_service\n",
    "service = get_tap_service('tap')"
   ]
  },
  {
   "cell_type": "markdown",
   "id": "2f987916-4649-4617-8d9e-972fa141bcd3",
   "metadata": {},
   "source": [
    "Query in an area near 47 Tuc so that we get the highest possible density. Also, return all columns from the Object table."
   ]
  },
  {
   "cell_type": "code",
   "execution_count": 6,
   "id": "ef1e14db-3672-472c-904d-e15faf7d92b5",
   "metadata": {
    "execution": {
     "iopub.execute_input": "2025-08-28T21:17:35.770202Z",
     "iopub.status.busy": "2025-08-28T21:17:35.769579Z",
     "iopub.status.idle": "2025-08-28T21:17:35.772679Z",
     "shell.execute_reply": "2025-08-28T21:17:35.772249Z",
     "shell.execute_reply.started": "2025-08-28T21:17:35.770181Z"
    }
   },
   "outputs": [],
   "source": [
    "query = \"\"\"SELECT coord_ra, coord_dec\n",
    "       FROM dp1.Object\n",
    "       WHERE CONTAINS(POINT('ICRS', coord_ra, coord_dec), CIRCLE('ICRS', 4.4, -72.3, 0.016666666666666666))=1\n",
    "\"\"\""
   ]
  },
  {
   "cell_type": "code",
   "execution_count": 7,
   "id": "d2759bb0-7fdc-4b89-aaa4-ec1d4e664a0e",
   "metadata": {
    "execution": {
     "iopub.execute_input": "2025-08-28T21:17:37.198496Z",
     "iopub.status.busy": "2025-08-28T21:17:37.198009Z",
     "iopub.status.idle": "2025-08-28T21:17:40.654383Z",
     "shell.execute_reply": "2025-08-28T21:17:40.653896Z",
     "shell.execute_reply.started": "2025-08-28T21:17:37.198476Z"
    }
   },
   "outputs": [
    {
     "name": "stdout",
     "output_type": "stream",
     "text": [
      "Job phase is COMPLETED\n",
      "Execution time: 3.452568531036377 seconds\n"
     ]
    }
   ],
   "source": [
    "start_time = time.time()\n",
    "\n",
    "job = service.submit_job(query)\n",
    "job.run()\n",
    "job.wait(phases=['COMPLETED', 'ERROR'])\n",
    "print('Job phase is', job.phase)\n",
    "if job.phase == 'ERROR':\n",
    "    job.raise_if_error()\n",
    "assert job.phase == 'COMPLETED'\n",
    "results = job.fetch_result().to_table().to_pandas()\n",
    "\n",
    "end_time = time.time()\n",
    "execution_time = end_time - start_time\n",
    "print(f\"Execution time: {execution_time} seconds\")"
   ]
  },
  {
   "cell_type": "code",
   "execution_count": 8,
   "id": "55d50481-f4fd-4882-a14a-abeafc05d458",
   "metadata": {
    "execution": {
     "iopub.execute_input": "2025-08-28T21:17:40.655279Z",
     "iopub.status.busy": "2025-08-28T21:17:40.655109Z",
     "iopub.status.idle": "2025-08-28T21:17:40.660562Z",
     "shell.execute_reply": "2025-08-28T21:17:40.660171Z",
     "shell.execute_reply.started": "2025-08-28T21:17:40.655263Z"
    }
   },
   "outputs": [
    {
     "name": "stdout",
     "output_type": "stream",
     "text": [
      "<class 'pandas.core.frame.DataFrame'>\n",
      "RangeIndex: 273 entries, 0 to 272\n",
      "Data columns (total 2 columns):\n",
      " #   Column     Non-Null Count  Dtype  \n",
      "---  ------     --------------  -----  \n",
      " 0   coord_ra   273 non-null    float64\n",
      " 1   coord_dec  273 non-null    float64\n",
      "dtypes: float64(2)\n",
      "memory usage: 4.4 KB\n"
     ]
    }
   ],
   "source": [
    "results.info(memory_usage='deep')"
   ]
  },
  {
   "cell_type": "code",
   "execution_count": null,
   "id": "796385cc-9716-4514-bb11-13cfbb65cb88",
   "metadata": {},
   "outputs": [],
   "source": []
  },
  {
   "cell_type": "code",
   "execution_count": null,
   "id": "21bae0e4-3817-4704-8d14-5c6c2b44a708",
   "metadata": {},
   "outputs": [],
   "source": []
  }
 ],
 "metadata": {
  "kernelspec": {
   "display_name": "LSST",
   "language": "python",
   "name": "lsst"
  },
  "language_info": {
   "codemirror_mode": {
    "name": "ipython",
    "version": 3
   },
   "file_extension": ".py",
   "mimetype": "text/x-python",
   "name": "python",
   "nbconvert_exporter": "python",
   "pygments_lexer": "ipython3",
   "version": "3.12.11"
  }
 },
 "nbformat": 4,
 "nbformat_minor": 5
}
