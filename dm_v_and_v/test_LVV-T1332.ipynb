{
 "cells": [
  {
   "cell_type": "markdown",
   "id": "691d56d9-6415-4e51-bf43-00ba275176a8",
   "metadata": {
    "editable": true,
    "execution": {
     "iopub.execute_input": "2025-08-21T22:57:29.615439Z",
     "iopub.status.busy": "2025-08-21T22:57:29.615075Z",
     "iopub.status.idle": "2025-08-21T22:57:29.618589Z",
     "shell.execute_reply": "2025-08-21T22:57:29.618100Z",
     "shell.execute_reply.started": "2025-08-21T22:57:29.615422Z"
    },
    "slideshow": {
     "slide_type": ""
    },
    "tags": []
   },
   "source": [
    "### Test case LVV-T1332 - Verify implementation of maximum time for retrieval of CCD-sized coadd cutouts\n",
    "DMS-REQ-0377-V-02: Max time to retrieve single-CCD coadd cutout image<br>\n",
    "\n",
    "To run as a scale test on data-int\n",
    "\n",
    "### Specification: \n",
    "Specification: A CCD-sized cutout of a coadd, including mask and variance planes, shall be retrievable using the IVOA SODA protocol within ccdRetrievalTime with ccdRetrievalUsers simultaneous requests for distinct areas of the sky.\n",
    "\n",
    "### Requirement Parameter\n",
    "ccdRetrievalTime = 15[second] Maximum time allowed for retrieving a CCD-sized coadd cutout.,  <br>\n",
    "ccdRetrievalUsers = 20[integer] Minimum number of simultaneous users retrieving a single CCD-sized coadd cutout."
   ]
  },
  {
   "cell_type": "code",
   "execution_count": null,
   "id": "7c788f0b-2916-4f94-9a85-45aab541ec2c",
   "metadata": {},
   "outputs": [],
   "source": [
    "import os\n",
    "import math\n",
    "import numpy as np\n",
    "\n",
    "from lsst.rsp.utils import get_pyvo_auth\n",
    "from lsst.rsp import get_tap_service\n",
    "import lsst.geom as geom\n",
    "from lsst.afw.image import ExposureF \n",
    "from lsst.afw.fits import MemFileManager\n",
    "\n",
    "from pyvo.dal.adhoc import DatalinkResults, SodaQuery\n",
    "from astropy import units as u\n",
    "from astropy.time import Time\n",
    "\n",
    "import time"
   ]
  },
  {
   "cell_type": "markdown",
   "id": "287d9f38-4a20-4856-832f-f1e00aeb29a7",
   "metadata": {},
   "source": [
    "### Requirement Specs"
   ]
  },
  {
   "cell_type": "code",
   "execution_count": null,
   "id": "c1c5b112-f5ea-42c2-9811-0d55dc90a9c4",
   "metadata": {},
   "outputs": [],
   "source": [
    "# Maximum time allowed for retrieving a CCD-sized coadd cutout., \n",
    "ccdRetrievalTime = 15  # seconds\n",
    "\n",
    "# Minimum number of simultaneous users retrieving a single CCD-sized coadd cutout.\n",
    "ccdRetrievalUsers = 50 "
   ]
  },
  {
   "cell_type": "code",
   "execution_count": null,
   "id": "1dd1337c-f109-4201-86cb-70c35ebcf3f5",
   "metadata": {},
   "outputs": [],
   "source": [
    "# CCD-sized cutout  \n",
    "pixels = 4000          #  4kx4k pixels / CCD\n",
    "pixel_scale_arcsec = 0.2  # arcsec/pixel\n",
    "pixel_scale_deg = pixel_scale_arcsec / 3600 \n",
    "\n",
    "# CCD size in degrees\n",
    "ccd_size_deg = pixels * pixel_scale_deg \n",
    "ccd_area_deg2 = ccd_size_deg ** 2\n",
    "circle_radius_deg = math.sqrt(ccd_area_deg2 / math.pi)\n",
    "\n",
    "print(f\"CCD angular size: {ccd_size_deg:.2f}° × {ccd_size_deg:.2f}°\")\n",
    "print(f\"CCD area: {ccd_area_deg2:.2f} deg²\")\n",
    "print(f\"Equivalent circular radius: {circle_radius_deg:.2f}°\")"
   ]
  },
  {
   "cell_type": "markdown",
   "id": "947937a4-6ff7-4ca7-9bc2-3546b8e8e26d",
   "metadata": {},
   "source": [
    "### Setup services and functions"
   ]
  },
  {
   "cell_type": "code",
   "execution_count": null,
   "id": "d40b7168-6d31-43ca-8268-0017d8b39794",
   "metadata": {},
   "outputs": [],
   "source": [
    "service = get_tap_service(\"tap\")\n",
    "assert service is not None"
   ]
  },
  {
   "cell_type": "markdown",
   "id": "c2ab4713-13c3-4842-b227-0b92c2324f60",
   "metadata": {},
   "source": [
    "### Generate an image cutout \n",
    "Use a DP1 r band image in the ECDFS field for a visit image that was obtained between MJD 60623.256 and 60623.259."
   ]
  },
  {
   "cell_type": "code",
   "execution_count": null,
   "id": "684793ec-e61b-4a99-8c05-4aafa9ba9283",
   "metadata": {},
   "outputs": [],
   "source": [
    "# Sample region\n",
    "ra_center = 53.1817060103852\n",
    "dec_center = -27.770598997875638\n",
    "lsst_band = 'r'"
   ]
  },
  {
   "cell_type": "code",
   "execution_count": null,
   "id": "207d279f-d3aa-4f39-b61f-c620fd135fa5",
   "metadata": {},
   "outputs": [],
   "source": [
    "# Circle cutout definition \n",
    "spherePoint = geom.SpherePoint(ra_center*geom.degrees, dec_center*geom.degrees)\n",
    "radius = circle_radius_deg * u.deg"
   ]
  },
  {
   "cell_type": "code",
   "execution_count": null,
   "id": "7129c796-ba21-4938-a819-3104c92b5f6b",
   "metadata": {},
   "outputs": [],
   "source": [
    "# Query the ObsCore table to get the list of images satisfying these criteria\n",
    "query = f\"\"\"\n",
    "SELECT s_ra,s_dec, lsst_band, t_exptime,t_min,t_max,access_url\n",
    "FROM ivoa.ObsCore \n",
    "WHERE CONTAINS(POINT('ICRS', {ra_center}, {dec_center}), s_region)=1\n",
    "      AND obs_collection = 'LSST.DP1'\n",
    "      AND dataproduct_type = 'image' AND instrument_name = 'LSSTComCam'\n",
    "      AND dataproduct_subtype = 'lsst.deep_coadd'\n",
    "      AND lsst_band = '{lsst_band}'\n",
    "\"\"\"\n",
    "print(query)"
   ]
  },
  {
   "cell_type": "code",
   "execution_count": null,
   "id": "049d4444-ae24-4f9b-99a1-02b44b65acb3",
   "metadata": {},
   "outputs": [],
   "source": [
    "results = service.search(query).to_table()\n",
    "\n",
    "# Confirms the \n",
    "assert len(results) == 1"
   ]
  },
  {
   "cell_type": "code",
   "execution_count": null,
   "id": "51f5b35e-2930-4d81-8171-96342341455d",
   "metadata": {},
   "outputs": [],
   "source": [
    "results"
   ]
  },
  {
   "cell_type": "code",
   "execution_count": null,
   "id": "4be618c3-94cf-4c62-afcc-a34ec45183ff",
   "metadata": {},
   "outputs": [],
   "source": [
    "# Get the image URL and datalink result \n",
    "datalink_url = results[0].get('access_url')\n",
    "dl_result = DatalinkResults.from_result_url(datalink_url,\n",
    "                                            session=get_pyvo_auth())\n",
    "\n",
    "f\"Datalink status: {dl_result.status}. Datalink service url: {datalink_url}\""
   ]
  },
  {
   "cell_type": "code",
   "execution_count": null,
   "id": "23b2bebe-5ef0-4c08-a804-890a7d6f5676",
   "metadata": {},
   "outputs": [],
   "source": [
    "# Set up the image cutout service\n",
    "sq = SodaQuery.from_resource(dl_result,\n",
    "                             dl_result.get_adhocservice_by_id(\"cutout-sync\"),\n",
    "                             session=get_pyvo_auth())"
   ]
  },
  {
   "cell_type": "code",
   "execution_count": null,
   "id": "c9898461-4451-4380-a5ab-559d78acb738",
   "metadata": {},
   "outputs": [],
   "source": [
    "# Define the circle stencil \n",
    "sq.circle = (spherePoint.getRa().asDegrees() * u.deg,\n",
    "             spherePoint.getDec().asDegrees() * u.deg,\n",
    "             radius)"
   ]
  },
  {
   "cell_type": "markdown",
   "id": "e7a2524f-f276-49d6-8962-4a7c52360f96",
   "metadata": {},
   "source": [
    "### Record the time to retrieve one CCD-sized cutout\n",
    "This is the code that needs to be scale tested for ccdRetrievalUsers (20) simultaneous users"
   ]
  },
  {
   "cell_type": "code",
   "execution_count": null,
   "id": "947d8604-0bd6-4cb3-b0d6-a0eba54b27d7",
   "metadata": {},
   "outputs": [],
   "source": [
    "# This is the cell that needs to be benchmarked  for ccdRetrievalUsers (20) simultaneous users\n",
    "start = time.time()\n",
    "cutout_bytes = sq.execute_stream().read()\n",
    "end = time.time()"
   ]
  },
  {
   "cell_type": "code",
   "execution_count": null,
   "id": "f55ca72d-face-4fb8-86de-4fb1f10b4b73",
   "metadata": {},
   "outputs": [],
   "source": [
    "elapsed = end - start\n",
    "print(f\"Elapsed time: {elapsed:.4f} seconds\")\n",
    "assert elapsed < ccdRetrievalTime"
   ]
  },
  {
   "cell_type": "code",
   "execution_count": null,
   "id": "232dfa00-21f4-4edb-9a7b-779b098b1bc5",
   "metadata": {},
   "outputs": [],
   "source": [
    "# Read into an ExposureF and check for the variance and mask planes -- why does this fail?\n",
    "# mem = MemFileManager(len(cutout_bytes))\n",
    "# mem.setData(cutout_bytes, len(cutout_bytes))\n",
    "# exposure = ExposureF(mem)"
   ]
  }
 ],
 "metadata": {
  "kernelspec": {
   "display_name": "LSST",
   "language": "python",
   "name": "lsst"
  },
  "language_info": {
   "codemirror_mode": {
    "name": "ipython",
    "version": 3
   },
   "file_extension": ".py",
   "mimetype": "text/x-python",
   "name": "python",
   "nbconvert_exporter": "python",
   "pygments_lexer": "ipython3",
   "version": "3.13.8"
  }
 },
 "nbformat": 4,
 "nbformat_minor": 5
}
