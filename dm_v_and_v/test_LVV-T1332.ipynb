{
 "cells": [
  {
   "cell_type": "markdown",
   "id": "691d56d9-6415-4e51-bf43-00ba275176a8",
   "metadata": {
    "editable": true,
    "execution": {
     "iopub.execute_input": "2025-08-21T22:57:29.615439Z",
     "iopub.status.busy": "2025-08-21T22:57:29.615075Z",
     "iopub.status.idle": "2025-08-21T22:57:29.618589Z",
     "shell.execute_reply": "2025-08-21T22:57:29.618100Z",
     "shell.execute_reply.started": "2025-08-21T22:57:29.615422Z"
    },
    "slideshow": {
     "slide_type": ""
    },
    "tags": []
   },
   "source": [
    "### Test case LVV-T1332 - Verify implementation of maximum time for retrieval of CCD-sized coadd cutouts\n",
    "DMS-REQ-0377-V-02: Max time to retrieve single-CCD coadd cutout image<br>\n",
    "\n",
    "To run as a scale test on data-int\n",
    "\n",
    "### Specification: \n",
    "Specification: A CCD-sized cutout of a coadd, including mask and variance planes, shall be retrievable using the IVOA SODA protocol within ccdRetrievalTime with ccdRetrievalUsers simultaneous requests for distinct areas of the sky.\n",
    "\n",
    "### Requirement Parameter\n",
    "ccdRetrievalTime = 15[second] Maximum time allowed for retrieving a CCD-sized coadd cutout.,  <br>\n",
    "ccdRetrievalUsers = 20[integer] Minimum number of simultaneous users retrieving a single CCD-sized coadd cutout."
   ]
  },
  {
   "cell_type": "code",
   "execution_count": 1,
   "id": "7c788f0b-2916-4f94-9a85-45aab541ec2c",
   "metadata": {
    "execution": {
     "iopub.execute_input": "2025-10-17T20:04:13.260233Z",
     "iopub.status.busy": "2025-10-17T20:04:13.260080Z",
     "iopub.status.idle": "2025-10-17T20:04:13.495813Z",
     "shell.execute_reply": "2025-10-17T20:04:13.494838Z",
     "shell.execute_reply.started": "2025-10-17T20:04:13.260218Z"
    }
   },
   "outputs": [],
   "source": [
    "import os\n",
    "import math\n",
    "import numpy as np\n",
    "\n",
    "from lsst.rsp.utils import get_pyvo_auth\n",
    "from lsst.rsp import get_tap_service\n",
    "import lsst.geom as geom\n",
    "from lsst.afw.image import ExposureF \n",
    "from lsst.afw.fits import MemFileManager\n",
    "\n",
    "from pyvo.dal.adhoc import DatalinkResults, SodaQuery\n",
    "from astropy import units as u\n",
    "from astropy.time import Time\n",
    "\n",
    "import time"
   ]
  },
  {
   "cell_type": "markdown",
   "id": "287d9f38-4a20-4856-832f-f1e00aeb29a7",
   "metadata": {},
   "source": [
    "### Requirement Specs"
   ]
  },
  {
   "cell_type": "code",
   "execution_count": 2,
   "id": "c1c5b112-f5ea-42c2-9811-0d55dc90a9c4",
   "metadata": {
    "execution": {
     "iopub.execute_input": "2025-10-17T20:04:13.496796Z",
     "iopub.status.busy": "2025-10-17T20:04:13.496433Z",
     "iopub.status.idle": "2025-10-17T20:04:13.499669Z",
     "shell.execute_reply": "2025-10-17T20:04:13.498862Z",
     "shell.execute_reply.started": "2025-10-17T20:04:13.496777Z"
    }
   },
   "outputs": [],
   "source": [
    "# Maximum time allowed for retrieving a CCD-sized coadd cutout., \n",
    "ccdRetrievalTime = 15  # seconds\n",
    "\n",
    "# Minimum number of simultaneous users retrieving a single CCD-sized coadd cutout.\n",
    "ccdRetrievalUsers = 50 "
   ]
  },
  {
   "cell_type": "code",
   "execution_count": 3,
   "id": "1dd1337c-f109-4201-86cb-70c35ebcf3f5",
   "metadata": {
    "execution": {
     "iopub.execute_input": "2025-10-17T20:04:13.500193Z",
     "iopub.status.busy": "2025-10-17T20:04:13.500047Z",
     "iopub.status.idle": "2025-10-17T20:04:13.525221Z",
     "shell.execute_reply": "2025-10-17T20:04:13.524164Z",
     "shell.execute_reply.started": "2025-10-17T20:04:13.500180Z"
    }
   },
   "outputs": [
    {
     "name": "stdout",
     "output_type": "stream",
     "text": [
      "CCD angular size: 0.22° × 0.22°\n",
      "CCD area: 0.05 deg²\n",
      "Equivalent circular radius: 0.13°\n"
     ]
    }
   ],
   "source": [
    "# CCD-sized cutout  \n",
    "pixels = 4000          #  4kx4k pixels / CCD\n",
    "pixel_scale_arcsec = 0.2  # arcsec/pixel\n",
    "pixel_scale_deg = pixel_scale_arcsec / 3600 \n",
    "\n",
    "# CCD size in degrees\n",
    "ccd_size_deg = pixels * pixel_scale_deg \n",
    "ccd_area_deg2 = ccd_size_deg ** 2\n",
    "circle_radius_deg = math.sqrt(ccd_area_deg2 / math.pi)\n",
    "\n",
    "print(f\"CCD angular size: {ccd_size_deg:.2f}° × {ccd_size_deg:.2f}°\")\n",
    "print(f\"CCD area: {ccd_area_deg2:.2f} deg²\")\n",
    "print(f\"Equivalent circular radius: {circle_radius_deg:.2f}°\")"
   ]
  },
  {
   "cell_type": "markdown",
   "id": "947937a4-6ff7-4ca7-9bc2-3546b8e8e26d",
   "metadata": {},
   "source": [
    "### Setup services and functions"
   ]
  },
  {
   "cell_type": "code",
   "execution_count": 4,
   "id": "d40b7168-6d31-43ca-8268-0017d8b39794",
   "metadata": {
    "execution": {
     "iopub.execute_input": "2025-10-17T20:04:13.525931Z",
     "iopub.status.busy": "2025-10-17T20:04:13.525768Z",
     "iopub.status.idle": "2025-10-17T20:04:13.588749Z",
     "shell.execute_reply": "2025-10-17T20:04:13.587638Z",
     "shell.execute_reply.started": "2025-10-17T20:04:13.525917Z"
    }
   },
   "outputs": [],
   "source": [
    "service = get_tap_service(\"tap\")\n",
    "assert service is not None"
   ]
  },
  {
   "cell_type": "markdown",
   "id": "c2ab4713-13c3-4842-b227-0b92c2324f60",
   "metadata": {},
   "source": [
    "### Generate an image cutout \n",
    "Use a DP1 r band image in the ECDFS field for a visit image that was obtained between MJD 60623.256 and 60623.259."
   ]
  },
  {
   "cell_type": "code",
   "execution_count": 5,
   "id": "684793ec-e61b-4a99-8c05-4aafa9ba9283",
   "metadata": {
    "execution": {
     "iopub.execute_input": "2025-10-17T20:04:13.589354Z",
     "iopub.status.busy": "2025-10-17T20:04:13.589170Z",
     "iopub.status.idle": "2025-10-17T20:04:13.592906Z",
     "shell.execute_reply": "2025-10-17T20:04:13.591880Z",
     "shell.execute_reply.started": "2025-10-17T20:04:13.589338Z"
    }
   },
   "outputs": [],
   "source": [
    "# Sample region\n",
    "ra_center = 53.1246023\n",
    "dec_center = -27.7815854\n",
    "lsst_band = 'r'\n",
    "tract = 5063\n",
    "patch = 34"
   ]
  },
  {
   "cell_type": "code",
   "execution_count": 6,
   "id": "207d279f-d3aa-4f39-b61f-c620fd135fa5",
   "metadata": {
    "execution": {
     "iopub.execute_input": "2025-10-17T20:04:13.593743Z",
     "iopub.status.busy": "2025-10-17T20:04:13.593552Z",
     "iopub.status.idle": "2025-10-17T20:04:13.615978Z",
     "shell.execute_reply": "2025-10-17T20:04:13.614958Z",
     "shell.execute_reply.started": "2025-10-17T20:04:13.593728Z"
    }
   },
   "outputs": [],
   "source": [
    "# Circle cutout definition \n",
    "spherePoint = geom.SpherePoint(ra_center*geom.degrees, dec_center*geom.degrees)\n",
    "radius = circle_radius_deg * u.deg"
   ]
  },
  {
   "cell_type": "code",
   "execution_count": 7,
   "id": "7129c796-ba21-4938-a819-3104c92b5f6b",
   "metadata": {
    "execution": {
     "iopub.execute_input": "2025-10-17T20:04:13.616543Z",
     "iopub.status.busy": "2025-10-17T20:04:13.616374Z",
     "iopub.status.idle": "2025-10-17T20:04:13.639028Z",
     "shell.execute_reply": "2025-10-17T20:04:13.637870Z",
     "shell.execute_reply.started": "2025-10-17T20:04:13.616529Z"
    }
   },
   "outputs": [
    {
     "name": "stdout",
     "output_type": "stream",
     "text": [
      "\n",
      "SELECT s_ra,s_dec, lsst_band, t_exptime,t_min,t_max,access_url\n",
      "FROM ivoa.ObsCore \n",
      "WHERE CONTAINS(POINT('ICRS', 53.1246023, -27.7815854), s_region)=1\n",
      "      AND obs_collection = 'LSST.DP1'\n",
      "      AND dataproduct_type = 'image' AND instrument_name = 'LSSTComCam'\n",
      "      AND lsst_tract = '5063'\n",
      "      AND lsst_patch = '34'\n",
      "      AND dataproduct_subtype = 'lsst.deep_coadd'\n",
      "      AND lsst_band = 'r'\n",
      "\n"
     ]
    }
   ],
   "source": [
    "# Query the ObsCore table to get the list of images satisfying these criteria\n",
    "query = f\"\"\"\n",
    "SELECT s_ra,s_dec, lsst_band, t_exptime,t_min,t_max,access_url\n",
    "FROM ivoa.ObsCore \n",
    "WHERE CONTAINS(POINT('ICRS', {ra_center}, {dec_center}), s_region)=1\n",
    "      AND obs_collection = 'LSST.DP1'\n",
    "      AND dataproduct_type = 'image' AND instrument_name = 'LSSTComCam'\n",
    "      AND lsst_tract = '{tract}'\n",
    "      AND lsst_patch = '{patch}'\n",
    "      AND dataproduct_subtype = 'lsst.deep_coadd'\n",
    "      AND lsst_band = '{lsst_band}'\n",
    "\"\"\"\n",
    "print(query)"
   ]
  },
  {
   "cell_type": "code",
   "execution_count": 8,
   "id": "049d4444-ae24-4f9b-99a1-02b44b65acb3",
   "metadata": {
    "execution": {
     "iopub.execute_input": "2025-10-17T20:04:13.639640Z",
     "iopub.status.busy": "2025-10-17T20:04:13.639467Z",
     "iopub.status.idle": "2025-10-17T20:04:16.987547Z",
     "shell.execute_reply": "2025-10-17T20:04:16.986646Z",
     "shell.execute_reply.started": "2025-10-17T20:04:13.639624Z"
    }
   },
   "outputs": [
    {
     "data": {
      "text/html": [
       "<div><i>Table length=1</i>\n",
       "<table id=\"table131994467343952\" class=\"table-striped table-bordered table-condensed\">\n",
       "<thead><tr><th>s_ra</th><th>s_dec</th><th>lsst_band</th><th>t_exptime</th><th>t_min</th><th>t_max</th><th>access_url</th></tr></thead>\n",
       "<thead><tr><th>deg</th><th>deg</th><th></th><th>s</th><th>d</th><th>d</th><th></th></tr></thead>\n",
       "<thead><tr><th>float64</th><th>float64</th><th>object</th><th>float64</th><th>float64</th><th>float64</th><th>object</th></tr></thead>\n",
       "<tr><td>53.1817060103852</td><td>-27.770598997875638</td><td>r</td><td>--</td><td>--</td><td>--</td><td>https://data-int.lsst.cloud/api/datalink/links?ID=ivo%3A%2F%2Forg.rubinobs%2Flsst-dp1%3Frepo%3Ddp1%26id%3Da515fed5-5069-445a-bb5b-11b89aeeae2d</td></tr>\n",
       "</table></div>"
      ],
      "text/plain": [
       "<Table length=1>\n",
       "      s_ra       ...\n",
       "      deg        ...\n",
       "    float64      ...\n",
       "---------------- ...\n",
       "53.1817060103852 ..."
      ]
     },
     "execution_count": 8,
     "metadata": {},
     "output_type": "execute_result"
    }
   ],
   "source": [
    "results = service.search(query).to_table()\n",
    "assert len(results) == 1\n",
    "results"
   ]
  },
  {
   "cell_type": "code",
   "execution_count": 9,
   "id": "4be618c3-94cf-4c62-afcc-a34ec45183ff",
   "metadata": {
    "execution": {
     "iopub.execute_input": "2025-10-17T20:04:16.988215Z",
     "iopub.status.busy": "2025-10-17T20:04:16.988000Z",
     "iopub.status.idle": "2025-10-17T20:04:17.128910Z",
     "shell.execute_reply": "2025-10-17T20:04:17.127793Z",
     "shell.execute_reply.started": "2025-10-17T20:04:16.988200Z"
    }
   },
   "outputs": [
    {
     "data": {
      "text/plain": [
       "\"Datalink status: ('OK', 'QUERY_STATUS not specified'). Datalink service url: https://data-int.lsst.cloud/api/datalink/links?ID=ivo%3A%2F%2Forg.rubinobs%2Flsst-dp1%3Frepo%3Ddp1%26id%3Da515fed5-5069-445a-bb5b-11b89aeeae2d\""
      ]
     },
     "execution_count": 9,
     "metadata": {},
     "output_type": "execute_result"
    }
   ],
   "source": [
    "# Get the image URL and datalink result \n",
    "datalink_url = results[0].get('access_url')\n",
    "dl_result = DatalinkResults.from_result_url(datalink_url,\n",
    "                                            session=get_pyvo_auth())\n",
    "\n",
    "f\"Datalink status: {dl_result.status}. Datalink service url: {datalink_url}\""
   ]
  },
  {
   "cell_type": "code",
   "execution_count": 10,
   "id": "23b2bebe-5ef0-4c08-a804-890a7d6f5676",
   "metadata": {
    "execution": {
     "iopub.execute_input": "2025-10-17T20:04:17.129627Z",
     "iopub.status.busy": "2025-10-17T20:04:17.129443Z",
     "iopub.status.idle": "2025-10-17T20:04:17.133482Z",
     "shell.execute_reply": "2025-10-17T20:04:17.132632Z",
     "shell.execute_reply.started": "2025-10-17T20:04:17.129613Z"
    }
   },
   "outputs": [],
   "source": [
    "# Set up the image cutout service\n",
    "sq = SodaQuery.from_resource(dl_result,\n",
    "                             dl_result.get_adhocservice_by_id(\"cutout-sync\"),\n",
    "                             session=get_pyvo_auth())"
   ]
  },
  {
   "cell_type": "code",
   "execution_count": 11,
   "id": "c9898461-4451-4380-a5ab-559d78acb738",
   "metadata": {
    "execution": {
     "iopub.execute_input": "2025-10-17T20:04:17.134350Z",
     "iopub.status.busy": "2025-10-17T20:04:17.134161Z",
     "iopub.status.idle": "2025-10-17T20:04:17.156361Z",
     "shell.execute_reply": "2025-10-17T20:04:17.155300Z",
     "shell.execute_reply.started": "2025-10-17T20:04:17.134336Z"
    }
   },
   "outputs": [],
   "source": [
    "# Define the circle stencil \n",
    "sq.circle = (spherePoint.getRa().asDegrees() * u.deg,\n",
    "             spherePoint.getDec().asDegrees() * u.deg,\n",
    "             radius)"
   ]
  },
  {
   "cell_type": "markdown",
   "id": "e7a2524f-f276-49d6-8962-4a7c52360f96",
   "metadata": {},
   "source": [
    "### Record the time to retrieve one CCD-sized cutout\n",
    "This is the code that needs to be scale tested for ccdRetrievalUsers (20) simultaneous users"
   ]
  },
  {
   "cell_type": "code",
   "execution_count": 12,
   "id": "947d8604-0bd6-4cb3-b0d6-a0eba54b27d7",
   "metadata": {
    "execution": {
     "iopub.execute_input": "2025-10-17T20:04:17.156974Z",
     "iopub.status.busy": "2025-10-17T20:04:17.156809Z",
     "iopub.status.idle": "2025-10-17T20:04:21.199059Z",
     "shell.execute_reply": "2025-10-17T20:04:21.197901Z",
     "shell.execute_reply.started": "2025-10-17T20:04:17.156960Z"
    }
   },
   "outputs": [],
   "source": [
    "start = time.time()\n",
    "cutout_bytes = sq.execute_stream().read()\n",
    "end = time.time()"
   ]
  },
  {
   "cell_type": "code",
   "execution_count": 13,
   "id": "f55ca72d-face-4fb8-86de-4fb1f10b4b73",
   "metadata": {
    "execution": {
     "iopub.execute_input": "2025-10-17T20:04:21.199830Z",
     "iopub.status.busy": "2025-10-17T20:04:21.199652Z",
     "iopub.status.idle": "2025-10-17T20:04:21.203396Z",
     "shell.execute_reply": "2025-10-17T20:04:21.202508Z",
     "shell.execute_reply.started": "2025-10-17T20:04:21.199815Z"
    }
   },
   "outputs": [
    {
     "name": "stdout",
     "output_type": "stream",
     "text": [
      "Elapsed time: 4.0193 seconds\n"
     ]
    }
   ],
   "source": [
    "elapsed = end - start\n",
    "print(f\"Elapsed time: {elapsed:.4f} seconds\")\n",
    "assert elapsed < ccdRetrievalTime"
   ]
  },
  {
   "cell_type": "code",
   "execution_count": 14,
   "id": "232dfa00-21f4-4edb-9a7b-779b098b1bc5",
   "metadata": {
    "execution": {
     "iopub.execute_input": "2025-10-17T20:04:21.204091Z",
     "iopub.status.busy": "2025-10-17T20:04:21.203932Z",
     "iopub.status.idle": "2025-10-17T20:04:21.225841Z",
     "shell.execute_reply": "2025-10-17T20:04:21.224890Z",
     "shell.execute_reply.started": "2025-10-17T20:04:21.204078Z"
    }
   },
   "outputs": [],
   "source": [
    "# Read into an ExposureF and check for the variance and mask planes -- why does this fail?\n",
    "# mem = MemFileManager(len(cutout_bytes))\n",
    "# mem.setData(cutout_bytes, len(cutout_bytes))\n",
    "# exposure = ExposureF(mem)"
   ]
  }
 ],
 "metadata": {
  "kernelspec": {
   "display_name": "LSST",
   "language": "python",
   "name": "lsst"
  },
  "language_info": {
   "codemirror_mode": {
    "name": "ipython",
    "version": 3
   },
   "file_extension": ".py",
   "mimetype": "text/x-python",
   "name": "python",
   "nbconvert_exporter": "python",
   "pygments_lexer": "ipython3",
   "version": "3.13.8"
  }
 },
 "nbformat": 4,
 "nbformat_minor": 5
}
