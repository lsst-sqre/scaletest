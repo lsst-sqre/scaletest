{
 "cells": [
  {
   "cell_type": "markdown",
   "id": "691d56d9-6415-4e51-bf43-00ba275176a8",
   "metadata": {
    "editable": true,
    "execution": {
     "iopub.execute_input": "2025-08-21T22:57:29.615439Z",
     "iopub.status.busy": "2025-08-21T22:57:29.615075Z",
     "iopub.status.idle": "2025-08-21T22:57:29.618589Z",
     "shell.execute_reply": "2025-08-21T22:57:29.618100Z",
     "shell.execute_reply.started": "2025-08-21T22:57:29.615422Z"
    },
    "slideshow": {
     "slide_type": ""
    },
    "tags": []
   },
   "source": [
    "### Test case LVV-T1332 - Verify implementation of maximum time for retrieval of CCD-sized coadd cutouts\n",
    "DMS-REQ-0377-V-02: Max time to retrieve single-CCD coadd cutout image<br>\n",
    "\n",
    "To run as a scale test on data-int\n",
    "\n",
    "### Specification: \n",
    "Specification: A CCD-sized cutout of a coadd, including mask and variance planes, shall be retrievable using the IVOA SODA protocol within ccdRetrievalTime with ccdRetrievalUsers simultaneous requests for distinct areas of the sky.\n",
    "\n",
    "### Requirement Parameter\n",
    "ccdRetrievalTime = 15[second] Maximum time allowed for retrieving a CCD-sized coadd cutout.,  <br>\n",
    "ccdRetrievalUsers = 20[integer] Minimum number of simultaneous users retrieving a single CCD-sized coadd cutout."
   ]
  },
  {
   "cell_type": "code",
   "execution_count": 1,
   "id": "7c788f0b-2916-4f94-9a85-45aab541ec2c",
   "metadata": {
    "execution": {
     "iopub.execute_input": "2025-10-17T18:18:06.563003Z",
     "iopub.status.busy": "2025-10-17T18:18:06.562843Z",
     "iopub.status.idle": "2025-10-17T18:18:06.598414Z",
     "shell.execute_reply": "2025-10-17T18:18:06.597320Z",
     "shell.execute_reply.started": "2025-10-17T18:18:06.562988Z"
    }
   },
   "outputs": [],
   "source": [
    "import os\n",
    "import math\n",
    "import numpy as np\n",
    "\n",
    "from lsst.rsp.utils import get_pyvo_auth\n",
    "from lsst.rsp import get_tap_service\n",
    "import lsst.geom as geom\n",
    "\n",
    "from pyvo.dal.adhoc import DatalinkResults, SodaQuery\n",
    "from astropy import units as u\n",
    "from astropy.time import Time\n",
    "\n",
    "import time"
   ]
  },
  {
   "cell_type": "markdown",
   "id": "287d9f38-4a20-4856-832f-f1e00aeb29a7",
   "metadata": {},
   "source": [
    "### Requirement Specs"
   ]
  },
  {
   "cell_type": "code",
   "execution_count": 2,
   "id": "c1c5b112-f5ea-42c2-9811-0d55dc90a9c4",
   "metadata": {
    "execution": {
     "iopub.execute_input": "2025-10-17T18:18:06.599584Z",
     "iopub.status.busy": "2025-10-17T18:18:06.599181Z",
     "iopub.status.idle": "2025-10-17T18:18:06.611786Z",
     "shell.execute_reply": "2025-10-17T18:18:06.610679Z",
     "shell.execute_reply.started": "2025-10-17T18:18:06.599563Z"
    }
   },
   "outputs": [],
   "source": [
    "# Maximum time allowed for retrieving a CCD-sized coadd cutout., \n",
    "ccdRetrievalTime = 15  # seconds\n",
    "\n",
    "# Minimum number of simultaneous users retrieving a single CCD-sized coadd cutout.\n",
    "ccdRetrievalUsers = 50 "
   ]
  },
  {
   "cell_type": "code",
   "execution_count": 3,
   "id": "1dd1337c-f109-4201-86cb-70c35ebcf3f5",
   "metadata": {
    "execution": {
     "iopub.execute_input": "2025-10-17T18:18:06.612699Z",
     "iopub.status.busy": "2025-10-17T18:18:06.612499Z",
     "iopub.status.idle": "2025-10-17T18:18:06.637437Z",
     "shell.execute_reply": "2025-10-17T18:18:06.636382Z",
     "shell.execute_reply.started": "2025-10-17T18:18:06.612682Z"
    }
   },
   "outputs": [
    {
     "name": "stdout",
     "output_type": "stream",
     "text": [
      "CCD angular size: 0.22° × 0.22°\n",
      "CCD area: 0.05 deg²\n",
      "Equivalent circular radius: 0.13°\n"
     ]
    }
   ],
   "source": [
    "# CCD-sized cutout  \n",
    "pixels = 4000          #  4kx4k pixels / CCD\n",
    "pixel_scale_arcsec = 0.2  # arcsec/pixel\n",
    "pixel_scale_deg = pixel_scale_arcsec / 3600 \n",
    "\n",
    "# CCD size in degrees\n",
    "ccd_size_deg = pixels * pixel_scale_deg \n",
    "ccd_area_deg2 = ccd_size_deg ** 2\n",
    "circle_radius_deg = math.sqrt(ccd_area_deg2 / math.pi)\n",
    "\n",
    "print(f\"CCD angular size: {ccd_size_deg:.2f}° × {ccd_size_deg:.2f}°\")\n",
    "print(f\"CCD area: {ccd_area_deg2:.2f} deg²\")\n",
    "print(f\"Equivalent circular radius: {circle_radius_deg:.2f}°\")"
   ]
  },
  {
   "cell_type": "markdown",
   "id": "947937a4-6ff7-4ca7-9bc2-3546b8e8e26d",
   "metadata": {},
   "source": [
    "### Setup services and functions"
   ]
  },
  {
   "cell_type": "code",
   "execution_count": 4,
   "id": "d40b7168-6d31-43ca-8268-0017d8b39794",
   "metadata": {
    "execution": {
     "iopub.execute_input": "2025-10-17T18:18:06.638681Z",
     "iopub.status.busy": "2025-10-17T18:18:06.638469Z",
     "iopub.status.idle": "2025-10-17T18:18:06.714636Z",
     "shell.execute_reply": "2025-10-17T18:18:06.713743Z",
     "shell.execute_reply.started": "2025-10-17T18:18:06.638663Z"
    }
   },
   "outputs": [],
   "source": [
    "service = get_tap_service(\"tap\")\n",
    "assert service is not None"
   ]
  },
  {
   "cell_type": "markdown",
   "id": "c2ab4713-13c3-4842-b227-0b92c2324f60",
   "metadata": {},
   "source": [
    "### Generate an image cutout \n",
    "Use a DP1 r band image in the ECDFS field for a visit image that was obtained between MJD 60623.256 and 60623.259."
   ]
  },
  {
   "cell_type": "code",
   "execution_count": 5,
   "id": "684793ec-e61b-4a99-8c05-4aafa9ba9283",
   "metadata": {
    "execution": {
     "iopub.execute_input": "2025-10-17T18:18:06.715555Z",
     "iopub.status.busy": "2025-10-17T18:18:06.715364Z",
     "iopub.status.idle": "2025-10-17T18:18:06.719537Z",
     "shell.execute_reply": "2025-10-17T18:18:06.718842Z",
     "shell.execute_reply.started": "2025-10-17T18:18:06.715538Z"
    }
   },
   "outputs": [],
   "source": [
    "# Sample region and time window\n",
    "ra_center = 53.1246023\n",
    "dec_center = -27.\n",
    "lsst_band = 'r'\n",
    "time1 = Time(60623.256, format=\"mjd\", scale=\"tai\")\n",
    "time2 = Time(60623.259, format=\"mjd\", scale=\"tai\")"
   ]
  },
  {
   "cell_type": "code",
   "execution_count": 6,
   "id": "207d279f-d3aa-4f39-b61f-c620fd135fa5",
   "metadata": {
    "execution": {
     "iopub.execute_input": "2025-10-17T18:18:06.720406Z",
     "iopub.status.busy": "2025-10-17T18:18:06.720223Z",
     "iopub.status.idle": "2025-10-17T18:18:06.748372Z",
     "shell.execute_reply": "2025-10-17T18:18:06.747314Z",
     "shell.execute_reply.started": "2025-10-17T18:18:06.720390Z"
    }
   },
   "outputs": [],
   "source": [
    "# Circle cutout definition \n",
    "spherePoint = geom.SpherePoint(ra_center*geom.degrees, dec_center*geom.degrees)\n",
    "radius = circle_radius_deg * u.deg"
   ]
  },
  {
   "cell_type": "code",
   "execution_count": 7,
   "id": "7129c796-ba21-4938-a819-3104c92b5f6b",
   "metadata": {
    "execution": {
     "iopub.execute_input": "2025-10-17T18:18:06.749313Z",
     "iopub.status.busy": "2025-10-17T18:18:06.749088Z",
     "iopub.status.idle": "2025-10-17T18:18:06.773499Z",
     "shell.execute_reply": "2025-10-17T18:18:06.772543Z",
     "shell.execute_reply.started": "2025-10-17T18:18:06.749296Z"
    }
   },
   "outputs": [],
   "source": [
    "# Query the ObsCore table to get the list of images satisfying these criteria\n",
    "query = f\"\"\"\n",
    "SELECT dataproduct_type,dataproduct_subtype,calib_level,lsst_band,lsst_tract,lsst_patch,\n",
    "       lsst_filter,lsst_visit,lsst_detector,t_exptime,t_min,t_max,s_ra,s_dec,s_fov,obs_id,\n",
    "       obs_collection,o_ucd,facility_name,instrument_name,obs_title,s_region,access_url,access_format \n",
    "FROM ivoa.ObsCore \n",
    "WHERE CONTAINS(POINT('ICRS', 53.1567053, -27.7815854), s_region)=1\n",
    "      AND obs_collection = 'LSST.DP1' AND calib_level = 2\n",
    "      AND dataproduct_type = 'image' AND instrument_name = 'LSSTComCam'\n",
    "      AND dataproduct_subtype = 'lsst.visit_image'\n",
    "      AND ( t_min <= 60623.259 AND 60623.256 <= t_max )\n",
    "      AND lsst_band = 'r'\n",
    "\"\"\""
   ]
  },
  {
   "cell_type": "code",
   "execution_count": 8,
   "id": "049d4444-ae24-4f9b-99a1-02b44b65acb3",
   "metadata": {
    "execution": {
     "iopub.execute_input": "2025-10-17T18:18:06.774521Z",
     "iopub.status.busy": "2025-10-17T18:18:06.774319Z",
     "iopub.status.idle": "2025-10-17T18:18:10.170142Z",
     "shell.execute_reply": "2025-10-17T18:18:10.169497Z",
     "shell.execute_reply.started": "2025-10-17T18:18:06.774505Z"
    }
   },
   "outputs": [
    {
     "data": {
      "text/html": [
       "<div><i>Table length=1</i>\n",
       "<table id=\"table133198666001552\" class=\"table-striped table-bordered table-condensed\">\n",
       "<thead><tr><th>dataproduct_type</th><th>dataproduct_subtype</th><th>calib_level</th><th>lsst_band</th><th>lsst_tract</th><th>lsst_patch</th><th>lsst_filter</th><th>lsst_visit</th><th>lsst_detector</th><th>t_exptime</th><th>t_min</th><th>t_max</th><th>s_ra</th><th>s_dec</th><th>s_fov</th><th>obs_id</th><th>obs_collection</th><th>o_ucd</th><th>facility_name</th><th>instrument_name</th><th>obs_title</th><th>s_region</th><th>access_url</th><th>access_format</th></tr></thead>\n",
       "<thead><tr><th></th><th></th><th></th><th></th><th></th><th></th><th></th><th></th><th></th><th>s</th><th>d</th><th>d</th><th>deg</th><th>deg</th><th>deg</th><th></th><th></th><th></th><th></th><th></th><th></th><th></th><th></th><th></th></tr></thead>\n",
       "<thead><tr><th>object</th><th>object</th><th>int32</th><th>object</th><th>int64</th><th>int64</th><th>object</th><th>int64</th><th>int64</th><th>float64</th><th>float64</th><th>float64</th><th>float64</th><th>float64</th><th>float64</th><th>object</th><th>object</th><th>object</th><th>object</th><th>object</th><th>object</th><th>object</th><th>object</th><th>object</th></tr></thead>\n",
       "<tr><td>image</td><td>lsst.visit_image</td><td>2</td><td>r</td><td>--</td><td>--</td><td>r_03</td><td>2024110800246</td><td>2</td><td>30.0</td><td>60623.25872464106</td><td>60623.25907695602</td><td>53.124250253081</td><td>-27.73236806603477</td><td>0.3179328995436719</td><td>CC_O_20241108_000246</td><td>LSST.DP1</td><td>phot.flux.density</td><td>Rubin:Simonyi</td><td>LSSTComCam</td><td>visit_image - r - CC_O_20241108_000246-R22_S02 2024-11-09T06:12:33.808988Z</td><td>POLYGON ICRS 53.030319 -27.596909 52.972978 -27.817875 53.218386 -27.867735 53.275334 -27.646761</td><td>https://data-int.lsst.cloud/api/datalink/links?ID=ivo%3A%2F%2Forg.rubinobs%2Flsst-dp1%3Frepo%3Ddp1%26id%3Dbd878b06-64dc-49d0-8bbb-52c36d810cd3</td><td>application/x-votable+xml;content=datalink</td></tr>\n",
       "</table></div>"
      ],
      "text/plain": [
       "<Table length=1>\n",
       "dataproduct_type ...               access_format               \n",
       "                 ...                                           \n",
       "     object      ...                   object                  \n",
       "---------------- ... ------------------------------------------\n",
       "           image ... application/x-votable+xml;content=datalink"
      ]
     },
     "execution_count": 8,
     "metadata": {},
     "output_type": "execute_result"
    }
   ],
   "source": [
    "results = service.search(query).to_table()\n",
    "assert len(results) == 1\n",
    "results"
   ]
  },
  {
   "cell_type": "code",
   "execution_count": 9,
   "id": "4be618c3-94cf-4c62-afcc-a34ec45183ff",
   "metadata": {
    "execution": {
     "iopub.execute_input": "2025-10-17T18:18:10.170894Z",
     "iopub.status.busy": "2025-10-17T18:18:10.170733Z",
     "iopub.status.idle": "2025-10-17T18:18:10.436400Z",
     "shell.execute_reply": "2025-10-17T18:18:10.435749Z",
     "shell.execute_reply.started": "2025-10-17T18:18:10.170880Z"
    }
   },
   "outputs": [
    {
     "data": {
      "text/plain": [
       "\"Datalink status: ('OK', 'QUERY_STATUS not specified'). Datalink service url: https://data-int.lsst.cloud/api/datalink/links?ID=ivo%3A%2F%2Forg.rubinobs%2Flsst-dp1%3Frepo%3Ddp1%26id%3Dbd878b06-64dc-49d0-8bbb-52c36d810cd3\""
      ]
     },
     "execution_count": 9,
     "metadata": {},
     "output_type": "execute_result"
    }
   ],
   "source": [
    "# Get the image URL and datalink result \n",
    "datalink_url = results[0].get('access_url')\n",
    "dl_result = DatalinkResults.from_result_url(datalink_url,\n",
    "                                            session=get_pyvo_auth())\n",
    "\n",
    "f\"Datalink status: {dl_result.status}. Datalink service url: {datalink_url}\""
   ]
  },
  {
   "cell_type": "code",
   "execution_count": 10,
   "id": "23b2bebe-5ef0-4c08-a804-890a7d6f5676",
   "metadata": {
    "execution": {
     "iopub.execute_input": "2025-10-17T18:18:10.437165Z",
     "iopub.status.busy": "2025-10-17T18:18:10.437002Z",
     "iopub.status.idle": "2025-10-17T18:18:10.440795Z",
     "shell.execute_reply": "2025-10-17T18:18:10.440144Z",
     "shell.execute_reply.started": "2025-10-17T18:18:10.437151Z"
    }
   },
   "outputs": [],
   "source": [
    "# Set up the image cutout service\n",
    "sq = SodaQuery.from_resource(dl_result,\n",
    "                             dl_result.get_adhocservice_by_id(\"cutout-sync\"),\n",
    "                             session=get_pyvo_auth())"
   ]
  },
  {
   "cell_type": "code",
   "execution_count": 11,
   "id": "c9898461-4451-4380-a5ab-559d78acb738",
   "metadata": {
    "execution": {
     "iopub.execute_input": "2025-10-17T18:18:10.441419Z",
     "iopub.status.busy": "2025-10-17T18:18:10.441267Z",
     "iopub.status.idle": "2025-10-17T18:18:10.465855Z",
     "shell.execute_reply": "2025-10-17T18:18:10.464995Z",
     "shell.execute_reply.started": "2025-10-17T18:18:10.441406Z"
    }
   },
   "outputs": [],
   "source": [
    "# Define the circle stencil \n",
    "sq.circle = (spherePoint.getRa().asDegrees() * u.deg,\n",
    "             spherePoint.getDec().asDegrees() * u.deg,\n",
    "             radius)"
   ]
  },
  {
   "cell_type": "markdown",
   "id": "e7a2524f-f276-49d6-8962-4a7c52360f96",
   "metadata": {},
   "source": [
    "### Record the time to retrieve one CCD-sized cutout\n",
    "This is the code that needs to be scale tested for ccdRetrievalUsers (20) simultaneous users"
   ]
  },
  {
   "cell_type": "code",
   "execution_count": 12,
   "id": "947d8604-0bd6-4cb3-b0d6-a0eba54b27d7",
   "metadata": {
    "execution": {
     "iopub.execute_input": "2025-10-17T18:18:10.466734Z",
     "iopub.status.busy": "2025-10-17T18:18:10.466542Z",
     "iopub.status.idle": "2025-10-17T18:18:12.045105Z",
     "shell.execute_reply": "2025-10-17T18:18:12.044382Z",
     "shell.execute_reply.started": "2025-10-17T18:18:10.466704Z"
    }
   },
   "outputs": [],
   "source": [
    "start = time.time()\n",
    "cutout_bytes = sq.execute_stream().read()\n",
    "end = time.time()"
   ]
  },
  {
   "cell_type": "code",
   "execution_count": 13,
   "id": "f55ca72d-face-4fb8-86de-4fb1f10b4b73",
   "metadata": {
    "execution": {
     "iopub.execute_input": "2025-10-17T18:18:12.045855Z",
     "iopub.status.busy": "2025-10-17T18:18:12.045666Z",
     "iopub.status.idle": "2025-10-17T18:18:12.048960Z",
     "shell.execute_reply": "2025-10-17T18:18:12.048356Z",
     "shell.execute_reply.started": "2025-10-17T18:18:12.045840Z"
    }
   },
   "outputs": [
    {
     "name": "stdout",
     "output_type": "stream",
     "text": [
      "Elapsed time: 1.5572 seconds\n"
     ]
    }
   ],
   "source": [
    "elapsed = end - start\n",
    "print(f\"Elapsed time: {elapsed:.4f} seconds\")\n",
    "assert elapsed < ccdRetrievalTime"
   ]
  }
 ],
 "metadata": {
  "kernelspec": {
   "display_name": "LSST",
   "language": "python",
   "name": "lsst"
  },
  "language_info": {
   "codemirror_mode": {
    "name": "ipython",
    "version": 3
   },
   "file_extension": ".py",
   "mimetype": "text/x-python",
   "name": "python",
   "nbconvert_exporter": "python",
   "pygments_lexer": "ipython3",
   "version": "3.12.11"
  }
 },
 "nbformat": 4,
 "nbformat_minor": 5
}
