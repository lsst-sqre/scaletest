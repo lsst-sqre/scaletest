{
 "cells": [
  {
   "cell_type": "markdown",
   "id": "691d56d9-6415-4e51-bf43-00ba275176a8",
   "metadata": {
    "editable": true,
    "execution": {
     "iopub.execute_input": "2025-08-21T22:57:29.615439Z",
     "iopub.status.busy": "2025-08-21T22:57:29.615075Z",
     "iopub.status.idle": "2025-08-21T22:57:29.618589Z",
     "shell.execute_reply": "2025-08-21T22:57:29.618100Z",
     "shell.execute_reply.started": "2025-08-21T22:57:29.615422Z"
    },
    "slideshow": {
     "slide_type": ""
    },
    "tags": []
   },
   "source": [
    "## Test case LVV-T2724: \n",
    "\n",
    "### Specification: \n",
    "This test covers three requirements relating to high-volume queries on Qserv\n",
    "\n",
    "####  Requirement ID: DMS-REQ-0354 (Priority: 1b) Result latency for high-volume complex queries<br>\n",
    "Specification: Complex high-volume queries -– queries that involve full-sky spatial and temporal correlations -- shall be answered in less than hvComplexQueryTime. \n",
    "hvComplexQueryTime:  Maximum time allowed for retrieving results of a high-volume complex query. == 12 hours\n",
    "\n",
    "#### Requirements ID: DMS-REQ-0361 (Priority: 1b)\n",
    "Specification: The system shall support hvQueryUsers simultaneous high-volume queries running at any given time\n",
    "hvQueryUsers: Minimum number of simultaneous users performing high volume queries == 50 \n",
    "\n",
    "### Discussion:\n",
    "We will use the DP1 catalog fr now. This is a query on Qserv, not the Butler\n",
    "\n",
    "### Data \n",
    "DP1 full scan is teh best we can do 2025-07-22\n",
    "Eventually erify latency against a full scale, e.g DR1 sized Object catalog\n"
   ]
  },
  {
   "cell_type": "code",
   "execution_count": 1,
   "id": "7c788f0b-2916-4f94-9a85-45aab541ec2c",
   "metadata": {
    "execution": {
     "iopub.execute_input": "2025-08-22T19:13:49.914102Z",
     "iopub.status.busy": "2025-08-22T19:13:49.913966Z",
     "iopub.status.idle": "2025-08-22T19:13:49.916252Z",
     "shell.execute_reply": "2025-08-22T19:13:49.915858Z",
     "shell.execute_reply.started": "2025-08-22T19:13:49.914087Z"
    }
   },
   "outputs": [],
   "source": [
    "from lsst.rsp import get_tap_service\n",
    "import time"
   ]
  },
  {
   "cell_type": "code",
   "execution_count": 17,
   "id": "c1c5b112-f5ea-42c2-9811-0d55dc90a9c4",
   "metadata": {
    "execution": {
     "iopub.execute_input": "2025-08-22T19:28:49.093289Z",
     "iopub.status.busy": "2025-08-22T19:28:49.092663Z",
     "iopub.status.idle": "2025-08-22T19:28:49.096227Z",
     "shell.execute_reply": "2025-08-22T19:28:49.095637Z",
     "shell.execute_reply.started": "2025-08-22T19:28:49.093267Z"
    }
   },
   "outputs": [],
   "source": [
    "# Requirements specs\n",
    "\n",
    "# Maximum time allowed for retrieving results of a high-volume query of the Object table. Hours\n",
    "hvComplexQueryTime = 12 *60 *60 # seconds\n",
    "\n",
    "# Minimum number of simultaneous users performing high volume queries.\n",
    "hvQueryUsers = 50 "
   ]
  },
  {
   "cell_type": "code",
   "execution_count": 3,
   "id": "7e37e3dd-df40-4d5d-a497-d5a475906176",
   "metadata": {
    "execution": {
     "iopub.execute_input": "2025-08-22T19:13:49.949226Z",
     "iopub.status.busy": "2025-08-22T19:13:49.949073Z",
     "iopub.status.idle": "2025-08-22T19:13:50.033257Z",
     "shell.execute_reply": "2025-08-22T19:13:50.032702Z",
     "shell.execute_reply.started": "2025-08-22T19:13:49.949213Z"
    }
   },
   "outputs": [],
   "source": [
    "service = get_tap_service(\"tap\")\n",
    "assert service is not None"
   ]
  },
  {
   "cell_type": "code",
   "execution_count": 4,
   "id": "97c79b64-3016-4092-a18a-06d044f6447c",
   "metadata": {
    "execution": {
     "iopub.execute_input": "2025-08-22T19:13:50.033860Z",
     "iopub.status.busy": "2025-08-22T19:13:50.033708Z",
     "iopub.status.idle": "2025-08-22T19:13:50.036276Z",
     "shell.execute_reply": "2025-08-22T19:13:50.035918Z",
     "shell.execute_reply.started": "2025-08-22T19:13:50.033845Z"
    }
   },
   "outputs": [],
   "source": [
    "# Calculate size in gigabytes (GB)\n",
    "def get_size_in_gb(df): \n",
    "    size = df.memory_usage(deep=True).sum()\n",
    "    size /= 1024 ** 3\n",
    "    return size"
   ]
  },
  {
   "cell_type": "code",
   "execution_count": 5,
   "id": "7ebcd97a-4618-4f28-bce4-eb595671fc57",
   "metadata": {
    "editable": true,
    "execution": {
     "iopub.execute_input": "2025-08-22T19:13:50.036820Z",
     "iopub.status.busy": "2025-08-22T19:13:50.036681Z",
     "iopub.status.idle": "2025-08-22T19:13:50.057216Z",
     "shell.execute_reply": "2025-08-22T19:13:50.056814Z",
     "shell.execute_reply.started": "2025-08-22T19:13:50.036806Z"
    },
    "slideshow": {
     "slide_type": ""
    },
    "tags": []
   },
   "outputs": [
    {
     "name": "stdout",
     "output_type": "stream",
     "text": [
      "SELECT *, scisql_nanojanskyToAbMag(r_scienceFluxMean) as rScienceMag\n",
      "        FROM dp1.DiaObject AS diao\n",
      "        JOIN dp1.ForcedSourceOnDiaObject as fsodo ON fsodo.diaObjectId = diao.diaObjectId\n",
      "        JOIN dp1.Visit as vis ON vis.visit = fsodo.visit \n",
      "        where scisql_nanojanskyToAbMag(r_scienceFluxMean) < 17\n",
      "\n"
     ]
    }
   ],
   "source": [
    "# High-volume complex query involving  full-sky spatial and temporal correlations and use of some internal functions \n",
    "# Mag 17 cut: Results in a 1.1 GB dataframe, greater than the limit for \"small queries\" of 0.5GB\n",
    "query = \"\"\"SELECT *, scisql_nanojanskyToAbMag(r_scienceFluxMean) as rScienceMag\n",
    "        FROM dp1.DiaObject AS diao\n",
    "        JOIN dp1.ForcedSourceOnDiaObject as fsodo ON fsodo.diaObjectId = diao.diaObjectId\n",
    "        JOIN dp1.Visit as vis ON vis.visit = fsodo.visit \n",
    "        where scisql_nanojanskyToAbMag(r_scienceFluxMean) < 17\n",
    "\"\"\"\n",
    "print(query)"
   ]
  },
  {
   "cell_type": "code",
   "execution_count": 6,
   "id": "0bf3d33e-6a54-4c24-b4c4-6adeb8571e8c",
   "metadata": {
    "execution": {
     "iopub.execute_input": "2025-08-22T19:13:50.057949Z",
     "iopub.status.busy": "2025-08-22T19:13:50.057801Z",
     "iopub.status.idle": "2025-08-22T19:13:50.162713Z",
     "shell.execute_reply": "2025-08-22T19:13:50.162281Z",
     "shell.execute_reply.started": "2025-08-22T19:13:50.057936Z"
    }
   },
   "outputs": [],
   "source": [
    "job = service.submit_job(query)"
   ]
  },
  {
   "cell_type": "code",
   "execution_count": 7,
   "id": "44db8e79-e053-4931-b259-a2e8b3bdca42",
   "metadata": {
    "execution": {
     "iopub.execute_input": "2025-08-22T19:13:50.163349Z",
     "iopub.status.busy": "2025-08-22T19:13:50.163205Z",
     "iopub.status.idle": "2025-08-22T19:24:09.452163Z",
     "shell.execute_reply": "2025-08-22T19:24:09.451519Z",
     "shell.execute_reply.started": "2025-08-22T19:13:50.163335Z"
    }
   },
   "outputs": [
    {
     "name": "stdout",
     "output_type": "stream",
     "text": [
      "Job phase is COMPLETED\n"
     ]
    }
   ],
   "source": [
    "start_time = time.time()\n",
    "job.run()\n",
    "job.wait(phases=['COMPLETED', 'ERROR'])\n",
    "print('Job phase is', job.phase)\n",
    "if job.phase == 'ERROR':\n",
    "    job.raise_if_error()\n",
    "assert job.phase == 'COMPLETED'\n",
    "results = job.fetch_result()\n",
    "end_time = time.time()"
   ]
  },
  {
   "cell_type": "code",
   "execution_count": 8,
   "id": "084d6d62-2efa-43e7-b5fc-16d3ec649ebd",
   "metadata": {
    "execution": {
     "iopub.execute_input": "2025-08-22T19:24:09.452967Z",
     "iopub.status.busy": "2025-08-22T19:24:09.452791Z",
     "iopub.status.idle": "2025-08-22T19:24:09.456098Z",
     "shell.execute_reply": "2025-08-22T19:24:09.455639Z",
     "shell.execute_reply.started": "2025-08-22T19:24:09.452952Z"
    }
   },
   "outputs": [
    {
     "name": "stdout",
     "output_type": "stream",
     "text": [
      "Execution time: 619.2859497070312\n"
     ]
    }
   ],
   "source": [
    "execution_time = end_time - start_time\n",
    "print(f\"Execution time: {execution_time}\")"
   ]
  },
  {
   "cell_type": "code",
   "execution_count": 10,
   "id": "acff8848-4064-49a8-b927-841097037cd8",
   "metadata": {
    "execution": {
     "iopub.execute_input": "2025-08-22T19:24:14.801685Z",
     "iopub.status.busy": "2025-08-22T19:24:14.801318Z",
     "iopub.status.idle": "2025-08-22T19:24:14.836214Z",
     "shell.execute_reply": "2025-08-22T19:24:14.835546Z",
     "shell.execute_reply.started": "2025-08-22T19:24:14.801669Z"
    }
   },
   "outputs": [],
   "source": [
    "job.delete()\n",
    "del query, results"
   ]
  },
  {
   "cell_type": "code",
   "execution_count": 11,
   "id": "9c99fae5-3d89-4b99-aafe-f2eb214521f1",
   "metadata": {
    "execution": {
     "iopub.execute_input": "2025-08-22T19:24:14.837034Z",
     "iopub.status.busy": "2025-08-22T19:24:14.836829Z",
     "iopub.status.idle": "2025-08-22T19:24:15.364197Z",
     "shell.execute_reply": "2025-08-22T19:24:15.363623Z",
     "shell.execute_reply.started": "2025-08-22T19:24:14.837017Z"
    }
   },
   "outputs": [
    {
     "name": "stdout",
     "output_type": "stream",
     "text": [
      "<class 'pandas.core.frame.DataFrame'>\n",
      "RangeIndex: 807445 entries, 0 to 807444\n",
      "Columns: 181 entries, dec to rScienceMag\n",
      "dtypes: bool(15), float32(28), float64(124), int64(9), object(5)\n",
      "memory usage: 1.1 GB\n"
     ]
    }
   ],
   "source": [
    "df = results.to_table().to_pandas()\n",
    "df.info(memory_usage='deep')"
   ]
  },
  {
   "cell_type": "code",
   "execution_count": 23,
   "id": "e5ac637e-c3ec-40b5-bf44-7580d41c80c1",
   "metadata": {
    "editable": true,
    "execution": {
     "iopub.execute_input": "2025-08-22T19:31:38.842700Z",
     "iopub.status.busy": "2025-08-22T19:31:38.842143Z",
     "iopub.status.idle": "2025-08-22T19:31:39.445315Z",
     "shell.execute_reply": "2025-08-22T19:31:39.444679Z",
     "shell.execute_reply.started": "2025-08-22T19:31:38.842673Z"
    },
    "slideshow": {
     "slide_type": ""
    },
    "tags": []
   },
   "outputs": [
    {
     "name": "stdout",
     "output_type": "stream",
     "text": [
      "Size is 1.1 GB\n"
     ]
    }
   ],
   "source": [
    "size = get_size_in_gb(df)\n",
    "print(f\"Size is {size:.1f} GB\")"
   ]
  },
  {
   "cell_type": "code",
   "execution_count": 18,
   "id": "384d1656-01c2-4b75-82bc-1637610c24a6",
   "metadata": {
    "editable": true,
    "execution": {
     "iopub.execute_input": "2025-08-22T19:28:53.293924Z",
     "iopub.status.busy": "2025-08-22T19:28:53.293212Z",
     "iopub.status.idle": "2025-08-22T19:28:53.297058Z",
     "shell.execute_reply": "2025-08-22T19:28:53.296390Z",
     "shell.execute_reply.started": "2025-08-22T19:28:53.293901Z"
    },
    "slideshow": {
     "slide_type": ""
    },
    "tags": []
   },
   "outputs": [
    {
     "name": "stdout",
     "output_type": "stream",
     "text": [
      "43200 619.2859497070312\n"
     ]
    }
   ],
   "source": [
    "#Pass spec?\n",
    "print(f\"Query run time {execution_time} : Specification time {hvComplexQueryTime}\")\n",
    "assert execution_time <= hvComplexQueryTime"
   ]
  }
 ],
 "metadata": {
  "kernelspec": {
   "display_name": "LSST",
   "language": "python",
   "name": "lsst"
  },
  "language_info": {
   "codemirror_mode": {
    "name": "ipython",
    "version": 3
   },
   "file_extension": ".py",
   "mimetype": "text/x-python",
   "name": "python",
   "nbconvert_exporter": "python",
   "pygments_lexer": "ipython3",
   "version": "3.12.11"
  }
 },
 "nbformat": 4,
 "nbformat_minor": 5
}
