{
 "cells": [
  {
   "cell_type": "markdown",
   "id": "691d56d9-6415-4e51-bf43-00ba275176a8",
   "metadata": {
    "editable": true,
    "execution": {
     "iopub.execute_input": "2025-08-21T22:57:29.615439Z",
     "iopub.status.busy": "2025-08-21T22:57:29.615075Z",
     "iopub.status.idle": "2025-08-21T22:57:29.618589Z",
     "shell.execute_reply": "2025-08-21T22:57:29.618100Z",
     "shell.execute_reply.started": "2025-08-21T22:57:29.615422Z"
    },
    "slideshow": {
     "slide_type": ""
    },
    "tags": []
   },
   "source": [
    "## Test case LVV-T2724: \n",
    "\n",
    "### Specification: \n",
    "This test covers three requirements relating to high-volume queries on Qserv\n",
    "\n",
    "####  Requirement ID: DMS-REQ-0354 (Priority: 1b) Result latency for high-volume complex queries<br>\n",
    "Specification: Complex high-volume queries -– queries that involve full-sky spatial and temporal correlations -- shall be answered in less than hvComplexQueryTime. \n",
    "hvComplexQueryTime:  Maximum time allowed for retrieving results of a high-volume complex query. == 12 hours\n",
    "\n",
    "#### Requirements ID: DMS-REQ-0361 (Priority: 1b)\n",
    "Specification: The system shall support hvQueryUsers simultaneous high-volume queries running at any given time\n",
    "hvQueryUsers: Minimum number of simultaneous users performing high volume queries == 50 \n",
    "\n",
    "### Discussion:\n",
    "We will use the DP1 catalog fr now. This is a query on Qserv, not the Butler\n",
    "\n",
    "### Data \n",
    "DP1 full scan is teh best we can do 2025-07-22\n",
    "Eventually erify latency against a full scale, e.g DR1 sized Object catalog\n"
   ]
  },
  {
   "cell_type": "code",
   "execution_count": null,
   "id": "7c788f0b-2916-4f94-9a85-45aab541ec2c",
   "metadata": {},
   "outputs": [],
   "source": [
    "from lsst.rsp import get_tap_service\n",
    "import time"
   ]
  },
  {
   "cell_type": "code",
   "execution_count": null,
   "id": "c1c5b112-f5ea-42c2-9811-0d55dc90a9c4",
   "metadata": {},
   "outputs": [],
   "source": [
    "# Requirements specs\n",
    "\n",
    "# Maximum time allowed for retrieving results of a high-volume query of the Object table. Hours\n",
    "hvComplexQueryTime = 12 *60 *60 # seconds\n",
    "\n",
    "# Minimum number of simultaneous users performing high volume queries.\n",
    "hvQueryUsers = 50 "
   ]
  },
  {
   "cell_type": "code",
   "execution_count": null,
   "id": "7e37e3dd-df40-4d5d-a497-d5a475906176",
   "metadata": {},
   "outputs": [],
   "source": [
    "service = get_tap_service(\"tap\")\n",
    "assert service is not None"
   ]
  },
  {
   "cell_type": "code",
   "execution_count": null,
   "id": "97c79b64-3016-4092-a18a-06d044f6447c",
   "metadata": {},
   "outputs": [],
   "source": [
    "# Calculate size in gigabytes (GB)\n",
    "def get_size_in_gb(df): \n",
    "    size = df.memory_usage(deep=True).sum()\n",
    "    size /= 1024 ** 3\n",
    "    return size"
   ]
  },
  {
   "cell_type": "code",
   "execution_count": null,
   "id": "7ebcd97a-4618-4f28-bce4-eb595671fc57",
   "metadata": {
    "editable": true,
    "slideshow": {
     "slide_type": ""
    },
    "tags": []
   },
   "outputs": [],
   "source": [
    "# High-volume complex query involving  full-sky spatial and temporal correlations and use of some internal functions \n",
    "# Mag 17 cut: Results in a 1.1 GB dataframe, greater than the limit for \"small queries\" of 0.5GB\n",
    "query = \"\"\"SELECT *, scisql_nanojanskyToAbMag(r_scienceFluxMean) as rScienceMag\n",
    "        FROM dp1.DiaObject AS diao\n",
    "        JOIN dp1.ForcedSourceOnDiaObject as fsodo ON fsodo.diaObjectId = diao.diaObjectId\n",
    "        JOIN dp1.Visit as vis ON vis.visit = fsodo.visit \n",
    "        where scisql_nanojanskyToAbMag(r_scienceFluxMean) < 17\n",
    "\"\"\"\n",
    "print(query)"
   ]
  },
  {
   "cell_type": "code",
   "execution_count": null,
   "id": "0bf3d33e-6a54-4c24-b4c4-6adeb8571e8c",
   "metadata": {
    "editable": true,
    "slideshow": {
     "slide_type": ""
    },
    "tags": []
   },
   "outputs": [],
   "source": [
    "job = service.submit_job(query)"
   ]
  },
  {
   "cell_type": "code",
   "execution_count": null,
   "id": "44db8e79-e053-4931-b259-a2e8b3bdca42",
   "metadata": {},
   "outputs": [],
   "source": [
    "start_time = time.time()\n",
    "job.run()\n",
    "job.wait(phases=['COMPLETED', 'ERROR'])\n",
    "print('Job phase is', job.phase)\n",
    "if job.phase == 'ERROR':\n",
    "    job.raise_if_error()\n",
    "assert job.phase == 'COMPLETED'\n",
    "results = job.fetch_result()\n",
    "end_time = time.time()"
   ]
  },
  {
   "cell_type": "code",
   "execution_count": null,
   "id": "084d6d62-2efa-43e7-b5fc-16d3ec649ebd",
   "metadata": {},
   "outputs": [],
   "source": [
    "execution_time = end_time - start_time\n",
    "print(f\"Execution time: {execution_time}\")"
   ]
  },
  {
   "cell_type": "code",
   "execution_count": null,
   "id": "9c99fae5-3d89-4b99-aafe-f2eb214521f1",
   "metadata": {},
   "outputs": [],
   "source": [
    "df = results.to_table().to_pandas()\n",
    "df.info(memory_usage='deep')"
   ]
  },
  {
   "cell_type": "code",
   "execution_count": null,
   "id": "e5ac637e-c3ec-40b5-bf44-7580d41c80c1",
   "metadata": {
    "editable": true,
    "slideshow": {
     "slide_type": ""
    },
    "tags": []
   },
   "outputs": [],
   "source": [
    "size = get_size_in_gb(df)\n",
    "print(f\"Size is {size:.1f} GB\")"
   ]
  },
  {
   "cell_type": "code",
   "execution_count": null,
   "id": "384d1656-01c2-4b75-82bc-1637610c24a6",
   "metadata": {
    "editable": true,
    "slideshow": {
     "slide_type": ""
    },
    "tags": []
   },
   "outputs": [],
   "source": [
    "#Pass spec?\n",
    "print(f\"Query run time {execution_time} : Specification time {hvComplexQueryTime}\")\n",
    "assert execution_time <= hvComplexQueryTime"
   ]
  },
  {
   "cell_type": "code",
   "execution_count": null,
   "id": "acff8848-4064-49a8-b927-841097037cd8",
   "metadata": {
    "editable": true,
    "slideshow": {
     "slide_type": ""
    },
    "tags": []
   },
   "outputs": [],
   "source": [
    "job.delete()\n",
    "del query, results"
   ]
  }
 ],
 "metadata": {
  "kernelspec": {
   "display_name": "LSST",
   "language": "python",
   "name": "lsst"
  },
  "language_info": {
   "codemirror_mode": {
    "name": "ipython",
    "version": 3
   },
   "file_extension": ".py",
   "mimetype": "text/x-python",
   "name": "python",
   "nbconvert_exporter": "python",
   "pygments_lexer": "ipython3",
   "version": "3.12.11"
  }
 },
 "nbformat": 4,
 "nbformat_minor": 5
}
