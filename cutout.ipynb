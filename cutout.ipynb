{
 "cells": [
  {
   "cell_type": "markdown",
   "id": "fda3784e-5569-4800-805f-1fd11b80c374",
   "metadata": {},
   "source": [
    "Cut down version based on DP02_13a for scaletesting cutout, ramdom co-ordinates within DP0.2 area --FE"
   ]
  },
  {
   "cell_type": "markdown",
   "id": "dc36f107",
   "metadata": {},
   "source": [
    "### 1.1 Package Imports\n",
    "\n",
    "Import general python packages, LSST packages, PyVO packages, and Astropy packages."
   ]
  },
  {
   "cell_type": "code",
   "execution_count": null,
   "id": "cddc1458",
   "metadata": {
    "tags": []
   },
   "outputs": [],
   "source": [
    "import time\n",
    "import numpy as np\n",
    "import uuid\n",
    "import os\n",
    "import glob\n",
    "import math\n",
    "import pandas\n",
    "import matplotlib.pyplot as plt\n",
    "from PIL import Image\n",
    "from IPython.display import Image as dimg\n",
    "\n",
    "import lsst.geom as geom\n",
    "import lsst.resources\n",
    "import lsst.afw.display as afwDisplay\n",
    "from lsst.afw.image import Exposure, ExposureF\n",
    "from lsst.pipe.tasks.registerImage import RegisterConfig, RegisterTask\n",
    "from lsst.rsp import get_tap_service\n",
    "from lsst.rsp.utils import get_access_token\n",
    "from lsst.afw.fits import MemFileManager\n",
    "\n",
    "import pyvo\n",
    "from pyvo.dal.adhoc import DatalinkResults, SodaQuery\n",
    "\n",
    "from astropy import units as u\n",
    "from astropy.coordinates import SkyCoord, Angle\n",
    "from astropy.io import fits\n",
    "from astropy.wcs import WCS\n",
    "\n",
    "\n",
    "from random import randrange, uniform"
   ]
  },
  {
   "cell_type": "markdown",
   "id": "c217adff-25ed-4fce-95e7-8aa04630f6cc",
   "metadata": {},
   "source": [
    "### 1.2 Define Functions and Parameters\n",
    "\n",
    "Set the backend for `afwDisplay` to `matplotlib`.\n",
    "Set parameters for plots."
   ]
  },
  {
   "cell_type": "code",
   "execution_count": null,
   "id": "552c4cac-feca-4d51-a92f-87d5779a3300",
   "metadata": {
    "tags": []
   },
   "outputs": [],
   "source": [
    "afwDisplay.setDefaultBackend('matplotlib')\n",
    "\n",
    "params = {'axes.labelsize': 18,\n",
    "          'font.size': 18,\n",
    "          'legend.fontsize': 12,\n",
    "          'xtick.major.width': 2,\n",
    "          'xtick.minor.width': 1,\n",
    "          'xtick.major.size': 10,\n",
    "          'xtick.minor.size': 4,\n",
    "          'xtick.direction': 'in',\n",
    "          'xtick.top': True,\n",
    "          'lines.linewidth': 2,\n",
    "          'axes.linewidth': 2,\n",
    "          'axes.labelweight': 2,\n",
    "          'axes.titleweight': 2,\n",
    "          'ytick.major.width': 2,\n",
    "          'ytick.minor.width': 1,\n",
    "          'ytick.major.size': 10,\n",
    "          'ytick.minor.size': 4,\n",
    "          'ytick.direction': 'in',\n",
    "          'ytick.right': True,\n",
    "          'figure.figsize': [6, 6],\n",
    "          'figure.facecolor': 'White'\n",
    "          }\n",
    "plt.style.use('tableau-colorblind10')\n",
    "\n",
    "plt.rcParams.update(params)"
   ]
  },
  {
   "cell_type": "markdown",
   "id": "522f9661-2534-418a-bea4-5e6bbf5eb615",
   "metadata": {},
   "source": [
    "When displaying `pandas` tables in the notebook,\n",
    "only display up to 20 rows."
   ]
  },
  {
   "cell_type": "code",
   "execution_count": null,
   "id": "14d46dfe-b02c-441e-92fb-f3066daff6d0",
   "metadata": {},
   "outputs": [],
   "source": [
    "pandas.set_option('display.max_rows', 20)"
   ]
  },
  {
   "cell_type": "markdown",
   "id": "ad0d6bef-485d-43bd-9ea2-cc79d5579cca",
   "metadata": {},
   "source": [
    "The Rubin cutout service allows the user to save cutouts as fits files locally on the Rubin Science Platform (RSP).\n",
    "Create a new temporary folder in the home directory called \"temp\" in which to save these files.\n",
    "At the end of the notebook, the last cell will clear the contents and remove the temp folder."
   ]
  },
  {
   "cell_type": "code",
   "execution_count": null,
   "id": "155fd661-08f8-4923-8376-5d6fe5334f4e",
   "metadata": {},
   "outputs": [],
   "source": [
    "tempdir = 'dp02_13a_temp'\n",
    "temppath = os.getenv(\"HOME\") + '/' + tempdir\n",
    "if not os.path.exists(temppath):\n",
    "    os.makedirs(temppath)\n",
    "    print('Created: ', temppath)\n",
    "else:\n",
    "    print('Already exists: ', temppath)\n",
    "del temppath"
   ]
  },
  {
   "cell_type": "markdown",
   "id": "ff95dea9-1223-4573-adce-bf85285dd2a0",
   "metadata": {},
   "source": [
    "The following cells define a number of functions to be used throughout the tutorial. The first function is to enable easy plotting of files from the cutout tool (`plotImage`). The next function, `make_image_cutout`, is a wrapper function that will perform the operations needed to call the cutout tool and create image cutouts stored locally. This procedure will first be demonstrated in Section 2. The steps include: 1) define the location on the sky. 2) Query the TAP service for the specifications of the dataId. 3) Retrieve the datalink URL associated with the data. 4) Create a cutout instance from the query result and the Datalink Resource."
   ]
  },
  {
   "cell_type": "code",
   "execution_count": null,
   "id": "2f464394-534d-4164-93d4-eaa27f46bae5",
   "metadata": {
    "tags": []
   },
   "outputs": [],
   "source": [
    "def plotImage(exposure: ExposureF):\n",
    "    \"\"\"Plot and image using lsst.awf.image package\n",
    "\n",
    "   Parameters\n",
    "    ----------\n",
    "    exposure : `ExposureF`\n",
    "        the image to plot from file in LSST awf image exposure class format\n",
    "\n",
    "   Returns\n",
    "    -------\n",
    "    image for notebook display\n",
    "    \"\"\"\n",
    "\n",
    "    fig, ax = plt.subplots()\n",
    "    display = afwDisplay.Display(frame=fig)\n",
    "    display.scale('asinh', 'zscale')\n",
    "    display.mtv(exposure.image)\n",
    "    plt.show()"
   ]
  },
  {
   "cell_type": "code",
   "execution_count": null,
   "id": "16b8a3f9-c6fb-404d-a07c-c852e6afc645",
   "metadata": {
    "tags": []
   },
   "outputs": [],
   "source": [
    "def make_image_cutout(tap_service, ra, dec, dataId, cutout_size=0.01,\n",
    "                      imtype=None, filename=None):\n",
    "    \"\"\"Wrapper function to generate a cutout using the cutout tool\n",
    "\n",
    "   Parameters\n",
    "    ----------\n",
    "    tap_service : an instance of the TAP service\n",
    "    ra, dec : 'float'\n",
    "        the ra and dec of the cutout center\n",
    "    dataId : 'dict'\n",
    "        the dataId of the image to make a cutout from. The format\n",
    "        must correspond to that provided for parameter 'imtype'\n",
    "    cutout_size : 'float', optional\n",
    "        edge length in degrees of the cutout\n",
    "    imtype : 'string', optional\n",
    "        string containing the type of LSST image to generate\n",
    "        a cutout of (e.g. deepCoadd, calexp). If imtype=None,\n",
    "        the function will assume a deepCoadd.\n",
    "    filename : 'string', optional\n",
    "        filename of the resulting cutout (which has fits format)\n",
    "\n",
    "   Returns\n",
    "    -------\n",
    "    sodaCutout : 'string'\n",
    "        filename of the cutout in fits format (including\n",
    "        full directory path; for now by default it is saved\n",
    "        in /home/dp02_13a_temp/\n",
    "    \"\"\"\n",
    "\n",
    "    spherePoint = geom.SpherePoint(ra*geom.degrees, dec*geom.degrees)\n",
    "\n",
    "    if imtype == 'calexp':\n",
    "\n",
    "        query = \"SELECT access_format, access_url, dataproduct_subtype, \" + \\\n",
    "            \"lsst_visit, lsst_detector, lsst_band \" + \\\n",
    "            \"FROM ivoa.ObsCore WHERE dataproduct_type = 'image' \" + \\\n",
    "            \"AND obs_collection = 'LSST.DP02' \" + \\\n",
    "            \"AND dataproduct_subtype = 'lsst.calexp' \" + \\\n",
    "            \"AND lsst_visit = \" + str(dataId[\"visit\"]) + \" \" + \\\n",
    "            \"AND lsst_detector = \" + str(dataId[\"detector\"])\n",
    "        results = tap_service.search(query)\n",
    "\n",
    "    else:\n",
    "        # Find the tract and patch that contain this point\n",
    "        tract = dataId[\"tract\"]\n",
    "        patch = dataId[\"patch\"]\n",
    "\n",
    "        # add optional default band if it is not contained in the dataId\n",
    "        band = dataId[\"band\"]\n",
    "\n",
    "        query = \"SELECT access_format, access_url, dataproduct_subtype, \" + \\\n",
    "            \"lsst_patch, lsst_tract, lsst_band \" + \\\n",
    "            \"FROM ivoa.ObsCore WHERE dataproduct_type = 'image' \" + \\\n",
    "            \"AND obs_collection = 'LSST.DP02' \" + \\\n",
    "            \"AND dataproduct_subtype = 'lsst.deepCoadd_calexp' \" + \\\n",
    "            \"AND lsst_tract = \" + str(tract) + \" \" + \\\n",
    "            \"AND lsst_patch = \" + str(patch) + \" \" + \\\n",
    "            \"AND lsst_band = \" + \"'\" + str(band) + \"' \"\n",
    "        results = tap_service.search(query)\n",
    "\n",
    "    # Get datalink\n",
    "    dataLinkUrl = results[0].getdataurl()\n",
    "    auth_session = service._session\n",
    "    dl = DatalinkResults.from_result_url(dataLinkUrl,\n",
    "                                         session=auth_session)\n",
    "\n",
    "    # from_resource: creates a instance from\n",
    "    # a number of records and a Datalink Resource.\n",
    "    sq = SodaQuery.from_resource(dl,\n",
    "                                 dl.get_adhocservice_by_id(\"cutout-sync\"),\n",
    "                                 session=auth_session)\n",
    "\n",
    "    sq.circle = (spherePoint.getRa().asDegrees() * u.deg,\n",
    "                 spherePoint.getDec().asDegrees() * u.deg,\n",
    "                 cutout_size * u.deg)\n",
    "\n",
    "    tempdir = 'dp02_13a_temp/'\n",
    "\n",
    "    if filename:\n",
    "        sodaCutout = os.path.join(os.getenv('HOME'), tempdir+filename)\n",
    "    else:\n",
    "        sodaCutout = os.path.join(os.getenv('HOME'), tempdir+'cutout.fits')\n",
    "\n",
    "    with open(sodaCutout, 'bw') as f:\n",
    "        f.write(sq.execute_stream().read())\n",
    "\n",
    "    return sodaCutout"
   ]
  },
  {
   "cell_type": "markdown",
   "id": "11b72063-a314-409b-8fe2-28d909dfcf6b",
   "metadata": {},
   "source": [
    "Finally, this third cell below defines a set of functions that we will use to work with cutouts of the same source to demonstrate how to visualize variability between calexp files, for diaObjects. Since calexp files may be imaged at any orientation on the sky, in order to align the images the user will 1) rotate and scale the image to a common grid (`warp_image`) and 2) determine the bounding box of the cutouts (`get_minmax_xy`) and 3) create a gif of those warped images to visualize the variability of the source (`make_gif`). These will be demonstrated in Section 4."
   ]
  },
  {
   "cell_type": "code",
   "execution_count": null,
   "id": "f27addf2-cb60-4456-a6f4-8b8d0bc1b74e",
   "metadata": {},
   "outputs": [],
   "source": [
    "def warp_img(ref_img, img_to_warp, ref_wcs, wcs_to_warp):\n",
    "    \"\"\"Warp and rotate an image onto the coordinate system of another image\n",
    "\n",
    "   Parameters\n",
    "    ----------\n",
    "    ref_img: 'ExposureF'\n",
    "        is the reference image for the re-projection\n",
    "    img_to_warp: 'ExposureF'\n",
    "        the image to rotate and warp onto the reference image's wcs\n",
    "    ref_wcs: 'wcs object'\n",
    "        the wcs of the reference image (i.e. ref_img.getWcs() )\n",
    "    wcs_to_warp: 'wcs object'\n",
    "        the wcs of the image to warp (i.e. img_to_warp.getWcs() )\n",
    "   Returns\n",
    "    -------\n",
    "    warpedExp: 'ExposureF'\n",
    "        a reprojected, rotated image that is aligned and matched to ref_image\n",
    "     \"\"\"\n",
    "    config = RegisterConfig()\n",
    "    task = RegisterTask(name=\"register\", config=config)\n",
    "    warpedExp = task.warpExposure(img_to_warp, wcs_to_warp, ref_wcs,\n",
    "                                  ref_img.getBBox())\n",
    "\n",
    "    return warpedExp\n",
    "\n",
    "\n",
    "def get_minmax_xy(img, cutout_size):\n",
    "    \"\"\"Get the pixel dimensions of an image\n",
    "\n",
    "   Parameters\n",
    "    ----------\n",
    "    img: 'ExposureF'\n",
    "        is the input image to return the pixel coordinates of\n",
    "    cutout_size: 'int'\n",
    "        is the edge size of the image in pixels\n",
    "   Returns\n",
    "    -------\n",
    "    minx, maxx, miny, maxy: 'int'\n",
    "        the min and max x and y pixel coordinates for the input image\n",
    "     \"\"\"\n",
    "\n",
    "    cutout_size = int(cutout_size)\n",
    "\n",
    "    height = img.height\n",
    "    width = img.width\n",
    "\n",
    "    ceny = (height - 1) / 2\n",
    "    cenx = (width - 1) / 2\n",
    "\n",
    "    minx = int(cenx - ((cutout_size - 1) / 2))\n",
    "    maxx = int(cenx + ((cutout_size - 1) / 2))\n",
    "    miny = int(ceny - ((cutout_size - 1) / 2))\n",
    "    maxy = int(ceny + ((cutout_size - 1) / 2))\n",
    "\n",
    "    return {'minx': minx, 'maxx': maxx, 'miny': miny, 'maxy': maxy}\n",
    "\n",
    "\n",
    "def make_gif(folder):\n",
    "    \"\"\"Generate a GIF for all *.png images contained in a folder\n",
    "\n",
    "   Parameters\n",
    "    ----------\n",
    "    # folder: 'string'\n",
    "        string containing the path to the folder\n",
    "        default filename is animation.gif\n",
    "\n",
    "   Returns\n",
    "    -------\n",
    "     \"\"\"\n",
    "    frames = [Image.open(img) for img in sorted(glob.glob(f\"{folder}/*.png\"))]\n",
    "    frame_one = frames[0]\n",
    "    frame_one.save(folder+\"/animation.gif\", format=\"GIF\",\n",
    "                   append_images=frames, save_all=True, duration=500, loop=1)\n"
   ]
  },
  {
   "cell_type": "markdown",
   "id": "ec51ac0b",
   "metadata": {
    "tags": []
   },
   "source": [
    "## 2. A step by step demonstration of how to use the Rubin Image Cutout Service\n",
    "\n",
    "This section will demonstrate a simple example: how to create a cutout for a single part of sky from a deepCoadd. \n",
    "\n",
    "\n",
    "### 2.1 Initiate the TAP service, and define sky coordinates for the image cutout\n",
    "\n",
    "The TAP service is used to query the ivoa.Obscore table for the datalink (a web URL identifying where the data is hosted)."
   ]
  },
  {
   "cell_type": "code",
   "execution_count": null,
   "id": "f632c1bc-44dd-4dff-9f29-3e63bf89428d",
   "metadata": {},
   "outputs": [],
   "source": [
    "service = get_tap_service(\"tap\")"
   ]
  },
  {
   "cell_type": "markdown",
   "id": "a47443c3-9455-4707-903f-59ba991cb014",
   "metadata": {},
   "source": [
    "First, define a point on the sky as the center of the image cutout. This example uses the galaxy cluster from DP0.2 Notebook Tutorial 03a. Once the RA and Dec are defined, create a SpherePoint object to define the location on the sky. Use these in a TAP query to identify the overlapping deepCoadd image.  "
   ]
  },
  {
   "cell_type": "code",
   "execution_count": null,
   "id": "cdc11b12-7c0b-4ab8-88b0-06787ffd9fe8",
   "metadata": {
    "tags": []
   },
   "outputs": [],
   "source": [
    "ra = uniform(52, 70)\n",
    "dec = uniform(-45,-27)\n",
    "print (ra, dec)\n",
    "\n",
    "coord = SkyCoord(ra=ra*u.degree, dec=dec*u.degree, frame='icrs')\n",
    "radius = .1 * u.deg\n",
    "\n",
    "spherePoint = lsst.geom.SpherePoint(ra*geom.degrees, dec*geom.degrees)\n"
   ]
  },
  {
   "cell_type": "markdown",
   "id": "551c859a-730a-4f4e-811b-6c2a13c4c30d",
   "metadata": {},
   "source": [
    "The next cell shows the TAP query for the metadata that is associated with the image's remote location in the LSST data archive. The DP0.2 has a schema (table collection) called \"ivoa\", which contains a table called ivoa.ObsCore. The IVOA-defined obscore table contains generic metadata for the DP0.2 datasets. The table is accessible via ADQL queries via a TAP endpoint. The mechanism for locating the images LSST is to use the TAP service to query the ObsCore schema. "
   ]
  },
  {
   "cell_type": "code",
   "execution_count": null,
   "id": "80d3f784-e547-4834-b5a4-37381bb15481",
   "metadata": {},
   "outputs": [],
   "source": [
    "query = \"SELECT lsst_patch, lsst_tract, s_region, \" + \\\n",
    "        \"access_format, access_url, dataproduct_subtype \" + \\\n",
    "        \"FROM ivoa.ObsCore \" + \\\n",
    "        \"WHERE dataproduct_type = 'image' \" + \\\n",
    "        \"AND obs_collection = 'LSST.DP02' \" + \\\n",
    "        \"AND dataproduct_subtype = 'lsst.deepCoadd_calexp' \" + \\\n",
    "        \"AND lsst_band = 'i' \" + \\\n",
    "        \"AND CONTAINS(POINT('ICRS', \" + str(coord.ra.value) + \\\n",
    "        \", \" + str(coord.dec.value) + \"), \" + \\\n",
    "        \"s_region) = 1\"\n",
    "print(query)"
   ]
  },
  {
   "cell_type": "code",
   "execution_count": null,
   "id": "844332b9-17a3-420b-b410-034bda4be211",
   "metadata": {},
   "outputs": [],
   "source": [
    "job = service.submit_job(query)\n",
    "job.run()\n",
    "job.wait(phases=['COMPLETED', 'ERROR'])\n",
    "print('Job phase is', job.phase)\n",
    "assert job.phase == 'COMPLETED'"
   ]
  },
  {
   "cell_type": "code",
   "execution_count": null,
   "id": "a97c1a71-58c3-45f6-98dc-9933299b5444",
   "metadata": {},
   "outputs": [],
   "source": [
    "results = job.fetch_result()"
   ]
  },
  {
   "cell_type": "code",
   "execution_count": null,
   "id": "fcf13212-6207-4336-9b3f-e0f7aaaaa6a3",
   "metadata": {},
   "outputs": [],
   "source": [
    "results.to_table()"
   ]
  },
  {
   "cell_type": "markdown",
   "id": "317b66e1-8a2b-4268-803d-08c1cb168350",
   "metadata": {},
   "source": [
    "In the above table, the `access_url` contains the web URL datalink for the requested deepCoadd. This datalink will be needed to generate the image cutout.\n",
    "\n",
    "The identified Patch and Tract will be used to define the unique dataId for that location, and once a filter (band) is included, this defines a unique deepCoadd in the LSST image database. Below, construct the dataId."
   ]
  },
  {
   "cell_type": "code",
   "execution_count": null,
   "id": "9f075025-e609-4c1c-a965-eda296fcd549",
   "metadata": {},
   "outputs": [],
   "source": [
    "tract = results['lsst_tract'][0]\n",
    "patch = results['lsst_patch'][0]\n",
    "\n",
    "dataId = {'band': 'i', 'tract': tract,\n",
    "          'patch': patch}"
   ]
  },
  {
   "cell_type": "markdown",
   "id": "c53ba0bc-91c2-4576-8014-4e008929d50c",
   "metadata": {},
   "source": [
    "### 2.3 Test out the cutout wrapper function \"make_image_cutout\" \n",
    "\n",
    "All of the above steps from section 2.2 have been compiled in a wrapper function called `make_image_cutout` that is defined in Section 1. In the rest of this notebook, cutouts will be generated using this function for simplicity. As defined, it assumes the circular cutout definition demonstrated above. Thus, the function requires as input the TAP service, the center ra/dec of the cutout, the `dataId` and imtype (Section 4 will demonstrate how to do this for calexp, not just deepCoadd) and the size of the cutout (i.e. what was defined as `sphereRadius` above). The next cell demonstrates how to run all the steps by calling `make_image_cutout` and plotting the result."
   ]
  },
  {
   "cell_type": "code",
   "execution_count": null,
   "id": "dd1a68b4-5524-4016-a743-88b34e1d661a",
   "metadata": {
    "tags": []
   },
   "outputs": [],
   "source": [
    "imtype = 'deepCoadd'\n",
    "test = make_image_cutout(service, ra, dec, dataId=dataId,\n",
    "                         imtype=imtype, cutout_size=0.005)\n",
    "# uncomment to see things with thine own eyes -FE\n",
    "# plotImage(ExposureF(test))"
   ]
  },
  {
   "cell_type": "markdown",
   "id": "811f16c3-e715-4e17-a59a-b8aad5fa8e14",
   "metadata": {},
   "source": [
    "> Figure 4: A small image cutout, created using the `make_image_cutout` function."
   ]
  },
  {
   "cell_type": "markdown",
   "id": "de4f00c9-04e8-4604-a9a9-dbb1b42004cd",
   "metadata": {},
   "source": [
    "## 5. Remove the temp folder\n",
    "\n",
    "As mentioned in Section 1.2, empty and remove the temporary folder in the home directory.\n",
    "This will remove all files generated by this notebook, and leave the folder empty.\n",
    "\n",
    "To remove the temp folder, open a terminal and type `cd ~` to go to the home directory, then `rmdir dp02_13a_temp` to remove the folder."
   ]
  },
  {
   "cell_type": "code",
   "execution_count": null,
   "id": "00d1d56b-3dbd-4bb9-8799-771f474c2725",
   "metadata": {},
   "outputs": [],
   "source": [
    "for filepath in glob.glob(os.path.join(os.getenv('HOME'), tempdir + '/')+\"*\"):\n",
    "    os.remove(filepath)"
   ]
  },
  {
   "cell_type": "code",
   "execution_count": null,
   "id": "68bad6d5-1b0c-4e19-b1ae-f9cb16975aab",
   "metadata": {},
   "outputs": [],
   "source": []
  },
  {
   "cell_type": "code",
   "execution_count": null,
   "id": "af5456dc-65dd-4bcb-9849-824a5e6a5fb1",
   "metadata": {},
   "outputs": [],
   "source": []
  },
  {
   "cell_type": "code",
   "execution_count": null,
   "id": "89ac3947-80a1-4574-929d-d84d98091509",
   "metadata": {},
   "outputs": [],
   "source": []
  }
 ],
 "metadata": {
  "kernelspec": {
   "display_name": "LSST",
   "language": "python",
   "name": "lsst"
  },
  "language_info": {
   "codemirror_mode": {
    "name": "ipython",
    "version": 3
   },
   "file_extension": ".py",
   "mimetype": "text/x-python",
   "name": "python",
   "nbconvert_exporter": "python",
   "pygments_lexer": "ipython3",
   "version": "3.12.10"
  },
  "toc-autonumbering": false
 },
 "nbformat": 4,
 "nbformat_minor": 5
}
