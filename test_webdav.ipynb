{
 "cells": [
  {
   "cell_type": "code",
   "execution_count": null,
   "id": "e5793f18-d417-4148-9a83-9e40c05cd2bb",
   "metadata": {},
   "outputs": [],
   "source": [
    "import requests\n",
    "from lsst.rsp.utils import get_access_token\n",
    "import time"
   ]
  },
  {
   "cell_type": "code",
   "execution_count": null,
   "id": "a0ff8d59-e1eb-46d8-ae3c-4d0df829be04",
   "metadata": {},
   "outputs": [],
   "source": [
    "username = os.getenv('USER')"
   ]
  },
  {
   "cell_type": "code",
   "execution_count": null,
   "id": "3b1e7dcf-d312-4d2a-a1a2-770b5998ca74",
   "metadata": {},
   "outputs": [],
   "source": [
    "url = f\"https://data-int.lsst.cloud/files/{username}/home/{username}\"\n",
    "base_files_url = f\"https://data-int.lsst.cloud/files/\"\n",
    "\n",
    "timestamp = int(time.time())\n",
    "filename = f\"test_{timestamp}.txt\"\n",
    "test_content = \"Testing WebDAV\""
   ]
  },
  {
   "cell_type": "code",
   "execution_count": null,
   "id": "e103eaf6-4eea-4993-97a9-d07bb8120b34",
   "metadata": {},
   "outputs": [],
   "source": [
    "# Auth stuff\n",
    "token=get_access_token()\n",
    "headers = {'Authorization': f'Bearer {token}'}"
   ]
  },
  {
   "cell_type": "code",
   "execution_count": null,
   "id": "e65c1bdc-1353-4046-84fa-021b3a3e38a8",
   "metadata": {},
   "outputs": [],
   "source": [
    "# GET to /files endpoint to initialize\n",
    "print(\"Getting /files endpoint...\")\n",
    "\n",
    "response = requests.get(base_files_url, headers=headers)\n",
    "\n",
    "if response.status_code != 200:\n",
    "    raise Exception(f\"/files endpoint failed!: {response.status_code} - {response.text}\")"
   ]
  },
  {
   "cell_type": "code",
   "execution_count": null,
   "id": "f430d6b7-3eba-4315-a43e-c5b1fe6da976",
   "metadata": {},
   "outputs": [],
   "source": [
    "# Do a PUT of the file to WebDAV\n",
    "print(\"Writing file\")\n",
    "\n",
    "response = requests.put(f\"{url}/{filename}\", \n",
    "                       data=test_content, \n",
    "                       headers=headers)\n",
    "\n",
    "if response.status_code not in [200, 201, 204]:\n",
    "    raise Exception(f\"File upload failed: {response.status_code} - {response.text}\")"
   ]
  },
  {
   "cell_type": "code",
   "execution_count": null,
   "id": "535d3801-a2d1-498e-ba4e-4ecf92bce167",
   "metadata": {},
   "outputs": [],
   "source": [
    "# List files with PROPFIND\n",
    "print(\"Listing files\")\n",
    "\n",
    "response = requests.request('PROPFIND', f\"{url}/\", \n",
    "                           headers={**headers, 'Depth': '1'})\n",
    "\n",
    "print(f\"Status: {response.status_code}\")\n",
    "\n",
    "if response.status_code != 207:\n",
    "    raise Exception(f\"Directory listing failed: {response.status_code} - {response.text}\")\n",
    "\n",
    "if filename not in response.text:\n",
    "    raise Exception(f\"File {filename} not found in directory listing\")"
   ]
  },
  {
   "cell_type": "code",
   "execution_count": null,
   "id": "e9e4ca2e-f855-405b-aa33-1e2b93d1e914",
   "metadata": {},
   "outputs": [],
   "source": [
    "# Download file and check content\n",
    "print(\"Downloading file\")\n",
    "\n",
    "response = requests.get(f\"{url}/{filename}\", headers=headers)\n",
    "print(f\"Status: {response.status_code}\")\n",
    "\n",
    "if response.status_code != 200:\n",
    "    raise Exception(f\"File download failure: {response.status_code} - {response.text}\")\n",
    "\n",
    "downloaded_content = response.text\n",
    "print(f\"Downloaded content: '{downloaded_content}'\")\n",
    "\n",
    "if downloaded_content != test_content:\n",
    "    raise Exception(f\"Content validation Failed - Expected: '{test_content}' Got: '{downloaded_content}'\")\n",
    "\n",
    "print(\"File downloaded and content is as expected\")"
   ]
  },
  {
   "cell_type": "code",
   "execution_count": null,
   "id": "35a4ecbd-b94d-403e-a9be-24aa822429ba",
   "metadata": {},
   "outputs": [],
   "source": [
    "# Delete file from WebDAV\n",
    "print(\"Deleting file\")\n",
    "\n",
    "response = requests.delete(f\"{url}/{filename}\", headers=headers)\n",
    "print(f\"Status: {response.status_code}\")\n",
    "\n",
    "if response.status_code not in [200, 204, 404]:\n",
    "    raise Exception(f\"File deletion failed: {response.status_code} - {response.text}\")"
   ]
  },
  {
   "cell_type": "code",
   "execution_count": null,
   "id": "4ae0c9fc-887d-4bae-94cb-d4e2903e0fa1",
   "metadata": {},
   "outputs": [],
   "source": [
    "# Validate that it was deleted\n",
    "print(\"Checking if deleted\")\n",
    "\n",
    "response = requests.request('PROPFIND', f\"{url}/\", \n",
    "                           headers={**headers, 'Depth': '1'})\n",
    "\n",
    "if filename not in response.text:\n",
    "    print(f\"{filename} deleted\")\n",
    "else:\n",
    "    print(f\"{filename} still exists\")\n",
    "\n",
    "if response.status_code != 207:\n",
    "    raise Exception(f\"Verification listing failed! {response.status_code} - {response.text}\")\n",
    "\n",
    "if filename in response.text:\n",
    "    raise Exception(f\"File {filename} was not correctly deleted!\")"
   ]
  }
 ],
 "metadata": {
  "kernelspec": {
   "display_name": "LSST",
   "language": "python",
   "name": "lsst"
  },
  "language_info": {
   "codemirror_mode": {
    "name": "ipython",
    "version": 3
   },
   "file_extension": ".py",
   "mimetype": "text/x-python",
   "name": "python",
   "nbconvert_exporter": "python",
   "pygments_lexer": "ipython3",
   "version": "3.12.10"
  }
 },
 "nbformat": 4,
 "nbformat_minor": 5
}
