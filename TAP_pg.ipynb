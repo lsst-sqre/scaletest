{
 "cells": [
  {
   "cell_type": "markdown",
   "id": "5170fc53-d8bb-49f1-a0ae-1cf2c83405aa",
   "metadata": {},
   "source": [
    "TAP solar system object query Postgres (DP0.3) --stv"
   ]
  },
  {
   "cell_type": "code",
   "execution_count": null,
   "id": "d23fe0e5-c68b-40de-8b0a-4e6f809fd4e7",
   "metadata": {},
   "outputs": [],
   "source": [
    "# from random import randrange, uniform\n",
    "from lsst.rsp import get_tap_service, retrieve_query\n",
    "from random import uniform"
   ]
  },
  {
   "cell_type": "code",
   "execution_count": null,
   "id": "fdb65888-ec4a-4e66-93a6-f26ec698c702",
   "metadata": {},
   "outputs": [],
   "source": [
    "service = get_tap_service(\"ssotap\")"
   ]
  },
  {
   "cell_type": "code",
   "execution_count": null,
   "id": "05154d90-f6a3-4c83-9359-78749efc3181",
   "metadata": {},
   "outputs": [],
   "source": [
    "rows = 1000000\n",
    "query = f\"SELECT TOP {rows} * FROM dp03_catalogs_10yr.SSObject\"\n",
    "print(query)"
   ]
  },
  {
   "cell_type": "code",
   "execution_count": null,
   "id": "29c88d5a-03d2-4de9-8841-f509d951e686",
   "metadata": {},
   "outputs": [],
   "source": [
    "results = service.search(query)\n",
    "table = results.to_table()"
   ]
  },
  {
   "cell_type": "code",
   "execution_count": null,
   "id": "4e67565b-e96c-450c-ad41-270352ee18b8",
   "metadata": {},
   "outputs": [],
   "source": [
    "print(len(results))"
   ]
  }
 ],
 "metadata": {
  "kernelspec": {
   "display_name": "LSST",
   "language": "python",
   "name": "lsst"
  },
  "language_info": {
   "codemirror_mode": {
    "name": "ipython",
    "version": 3
   },
   "file_extension": ".py",
   "mimetype": "text/x-python",
   "name": "python",
   "nbconvert_exporter": "python",
   "pygments_lexer": "ipython3",
   "version": "3.12.10"
  }
 },
 "nbformat": 4,
 "nbformat_minor": 5
}
