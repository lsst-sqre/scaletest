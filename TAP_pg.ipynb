{
 "cells": [
  {
   "cell_type": "markdown",
   "id": "5170fc53-d8bb-49f1-a0ae-1cf2c83405aa",
   "metadata": {},
   "source": [
    "Randomised TAP solar system object query Postgres (DP0.3) --FE"
   ]
  },
  {
   "cell_type": "code",
   "execution_count": 4,
   "id": "d23fe0e5-c68b-40de-8b0a-4e6f809fd4e7",
   "metadata": {
    "execution": {
     "iopub.execute_input": "2025-05-02T20:29:56.749589Z",
     "iopub.status.busy": "2025-05-02T20:29:56.749046Z",
     "iopub.status.idle": "2025-05-02T20:29:56.752092Z",
     "shell.execute_reply": "2025-05-02T20:29:56.751603Z",
     "shell.execute_reply.started": "2025-05-02T20:29:56.749563Z"
    }
   },
   "outputs": [],
   "source": [
    "# from random import randrange, uniform\n",
    "from lsst.rsp import get_tap_service, retrieve_query\n",
    "from random import uniform"
   ]
  },
  {
   "cell_type": "code",
   "execution_count": 5,
   "id": "fdb65888-ec4a-4e66-93a6-f26ec698c702",
   "metadata": {
    "execution": {
     "iopub.execute_input": "2025-05-02T20:29:57.028532Z",
     "iopub.status.busy": "2025-05-02T20:29:57.028264Z",
     "iopub.status.idle": "2025-05-02T20:29:57.069108Z",
     "shell.execute_reply": "2025-05-02T20:29:57.068307Z",
     "shell.execute_reply.started": "2025-05-02T20:29:57.028514Z"
    }
   },
   "outputs": [],
   "source": [
    "service = get_tap_service(\"ssotap\")"
   ]
  },
  {
   "cell_type": "code",
   "execution_count": 6,
   "id": "1b14afa2-b3a7-48fd-925f-c86351888280",
   "metadata": {
    "execution": {
     "iopub.execute_input": "2025-05-02T20:29:57.162813Z",
     "iopub.status.busy": "2025-05-02T20:29:57.162156Z",
     "iopub.status.idle": "2025-05-02T20:29:57.166821Z",
     "shell.execute_reply": "2025-05-02T20:29:57.166196Z",
     "shell.execute_reply.started": "2025-05-02T20:29:57.162783Z"
    }
   },
   "outputs": [
    {
     "name": "stdout",
     "output_type": "stream",
     "text": [
      "0.03570869761710233 0.13570869761710233 0.7537155430202501 0.9537155430202502\n"
     ]
    }
   ],
   "source": [
    "# randomising\n",
    "\n",
    "mpc_q_lo = uniform(0,1.2)\n",
    "mpc_q_hi = mpc_q_lo + 0.1\n",
    "mpc_e_lo = uniform(0,0.8)\n",
    "mpc_e_hi= mpc_e_lo + 0.2\n",
    "\n",
    "print(mpc_q_lo, mpc_q_hi, mpc_e_lo, mpc_e_hi)"
   ]
  },
  {
   "cell_type": "markdown",
   "id": "7a7c084f-ea7b-44b6-8e77-162feebcb96f",
   "metadata": {},
   "source": [
    "This is an ~ 3-4 sec query typically"
   ]
  },
  {
   "cell_type": "code",
   "execution_count": 17,
   "id": "05154d90-f6a3-4c83-9359-78749efc3181",
   "metadata": {
    "execution": {
     "iopub.execute_input": "2025-05-02T20:31:30.829004Z",
     "iopub.status.busy": "2025-05-02T20:31:30.828372Z",
     "iopub.status.idle": "2025-05-02T20:31:30.832337Z",
     "shell.execute_reply": "2025-05-02T20:31:30.831677Z",
     "shell.execute_reply.started": "2025-05-02T20:31:30.828986Z"
    }
   },
   "outputs": [
    {
     "name": "stdout",
     "output_type": "stream",
     "text": [
      " SELECT\n",
      "        mpc.ssObjectId, mpc.mpcDesignation, mpc.e, mpc.q, mpc.incl\n",
      "        FROM dp03_catalogs_10yr.MPCORB as mpc\n",
      "        INNER JOIN dp03_catalogs_10yr.SSObject as sso\n",
      "        ON mpc.ssObjectId = sso.ssObjectId\n",
      "        WHERE mpc.q < 0.14 AND mpc.q > 0.04 AND mpc.e < 0.95  AND mpc.e > 0.75\n"
     ]
    }
   ],
   "source": [
    "query = f\"\"\" SELECT\n",
    "        mpc.ssObjectId, mpc.mpcDesignation, mpc.e, mpc.q, mpc.incl\n",
    "        FROM dp03_catalogs_10yr.MPCORB as mpc\n",
    "        INNER JOIN dp03_catalogs_10yr.SSObject as sso\n",
    "        ON mpc.ssObjectId = sso.ssObjectId\n",
    "        WHERE mpc.q < {mpc_q_hi:.2f} AND mpc.q > {mpc_q_lo:.2f} AND mpc.e < {mpc_e_hi:.2f}  AND mpc.e > {mpc_e_lo:.2f}\"\"\"\n",
    "\n",
    "print(query)"
   ]
  },
  {
   "cell_type": "code",
   "execution_count": 18,
   "id": "29c88d5a-03d2-4de9-8841-f509d951e686",
   "metadata": {
    "execution": {
     "iopub.execute_input": "2025-05-02T20:31:30.995474Z",
     "iopub.status.busy": "2025-05-02T20:31:30.995205Z",
     "iopub.status.idle": "2025-05-02T20:31:31.430636Z",
     "shell.execute_reply": "2025-05-02T20:31:31.430053Z",
     "shell.execute_reply.started": "2025-05-02T20:31:30.995454Z"
    }
   },
   "outputs": [],
   "source": [
    "results = service.search(query)\n",
    "table = results.to_table()"
   ]
  },
  {
   "cell_type": "code",
   "execution_count": 19,
   "id": "4e67565b-e96c-450c-ad41-270352ee18b8",
   "metadata": {
    "execution": {
     "iopub.execute_input": "2025-05-02T20:31:31.431711Z",
     "iopub.status.busy": "2025-05-02T20:31:31.431536Z",
     "iopub.status.idle": "2025-05-02T20:31:31.434527Z",
     "shell.execute_reply": "2025-05-02T20:31:31.434099Z",
     "shell.execute_reply.started": "2025-05-02T20:31:31.431696Z"
    }
   },
   "outputs": [
    {
     "name": "stdout",
     "output_type": "stream",
     "text": [
      "489\n"
     ]
    }
   ],
   "source": [
    "print(len(results))"
   ]
  }
 ],
 "metadata": {
  "kernelspec": {
   "display_name": "LSST",
   "language": "python",
   "name": "lsst"
  },
  "language_info": {
   "codemirror_mode": {
    "name": "ipython",
    "version": 3
   },
   "file_extension": ".py",
   "mimetype": "text/x-python",
   "name": "python",
   "nbconvert_exporter": "python",
   "pygments_lexer": "ipython3",
   "version": "3.12.9"
  }
 },
 "nbformat": 4,
 "nbformat_minor": 5
}
