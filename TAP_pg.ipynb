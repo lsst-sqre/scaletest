{
 "cells": [
  {
   "cell_type": "markdown",
   "id": "5170fc53-d8bb-49f1-a0ae-1cf2c83405aa",
   "metadata": {},
   "source": [
    "Randomised TAP solar system object query Postgres (DP0.3) --FE"
   ]
  },
  {
   "cell_type": "code",
   "execution_count": null,
   "id": "d23fe0e5-c68b-40de-8b0a-4e6f809fd4e7",
   "metadata": {},
   "outputs": [],
   "source": [
    "# from random import randrange, uniform\n",
    "from lsst.rsp import get_tap_service, retrieve_query\n",
    "from random import uniform"
   ]
  },
  {
   "cell_type": "code",
   "execution_count": null,
   "id": "fdb65888-ec4a-4e66-93a6-f26ec698c702",
   "metadata": {},
   "outputs": [],
   "source": [
    "service = get_tap_service(\"ssotap\")"
   ]
  },
  {
   "cell_type": "code",
   "execution_count": null,
   "id": "1b14afa2-b3a7-48fd-925f-c86351888280",
   "metadata": {},
   "outputs": [],
   "source": [
    "# randomising\n",
    "\n",
    "mpc_q_lo = uniform(0,1.2)\n",
    "mpc_q_hi = mpc_q_lo + 0.1\n",
    "mpc_e_lo = uniform(0,0.8)\n",
    "mpc_e_hi= mpc_e_lo + 0.2\n",
    "\n",
    "print(mpc_q_lo, mpc_q_hi, mpc_e_lo, mpc_e_hi)"
   ]
  },
  {
   "cell_type": "markdown",
   "id": "7a7c084f-ea7b-44b6-8e77-162feebcb96f",
   "metadata": {},
   "source": [
    "This is an ~ 3-4 sec query typically"
   ]
  },
  {
   "cell_type": "code",
   "execution_count": null,
   "id": "05154d90-f6a3-4c83-9359-78749efc3181",
   "metadata": {},
   "outputs": [],
   "source": [
    "query = f\"\"\" SELECT\n",
    "        mpc.ssObjectId, mpc.mpcDesignation, mpc.e, mpc.q, mpc.incl\n",
    "        FROM dp03_catalogs_10yr.MPCORB as mpc\n",
    "        INNER JOIN dp03_catalogs_10yr.SSObject as sso\n",
    "        ON mpc.ssObjectId = sso.ssObjectId\n",
    "        WHERE mpc.q < {mpc_q_hi:.2f} AND mpc.q > {mpc_q_lo:.2f} AND mpc.e < {mpc_e_hi:.2f}  AND mpc.e > {mpc_e_lo:.2f}\"\"\"\n",
    "\n",
    "print(query)"
   ]
  },
  {
   "cell_type": "code",
   "execution_count": null,
   "id": "29c88d5a-03d2-4de9-8841-f509d951e686",
   "metadata": {},
   "outputs": [],
   "source": [
    "job = service.submit_job(query)\n",
    "job.run()\n",
    "job.wait(phases=['COMPLETED', 'ERROR'])\n",
    "print('Job phase is', job.phase)\n",
    "results = job.fetch_result().to_table().to_pandas()\n",
    "assert job.phase == 'COMPLETED'"
   ]
  },
  {
   "cell_type": "code",
   "execution_count": null,
   "id": "4e67565b-e96c-450c-ad41-270352ee18b8",
   "metadata": {},
   "outputs": [],
   "source": [
    "print(len(results))"
   ]
  },
  {
   "cell_type": "code",
   "execution_count": null,
   "id": "70206645-473a-4fde-a7f5-dcfa3932f7b2",
   "metadata": {},
   "outputs": [],
   "source": []
  }
 ],
 "metadata": {
  "kernelspec": {
   "display_name": "LSST",
   "language": "python",
   "name": "lsst"
  },
  "language_info": {
   "codemirror_mode": {
    "name": "ipython",
    "version": 3
   },
   "file_extension": ".py",
   "mimetype": "text/x-python",
   "name": "python",
   "nbconvert_exporter": "python",
   "pygments_lexer": "ipython3",
   "version": "3.12.10"
  }
 },
 "nbformat": 4,
 "nbformat_minor": 5
}
