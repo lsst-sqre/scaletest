{
 "cells": [
  {
   "cell_type": "markdown",
   "id": "5fd87c19-b2bf-4e1e-a545-c11688200412",
   "metadata": {},
   "source": [
    "# Butler get random fetch"
   ]
  },
  {
   "cell_type": "code",
   "execution_count": null,
   "id": "04322561-47e7-48e6-95a7-bfb743bc3004",
   "metadata": {},
   "outputs": [],
   "source": [
    "from random import randrange\n",
    "from lsst.daf.butler import Butler"
   ]
  },
  {
   "cell_type": "code",
   "execution_count": null,
   "id": "ef15ef94-9ff3-441f-81b4-e0e086b7135f",
   "metadata": {},
   "outputs": [],
   "source": [
    "# current DP0.2 - switch to DP1 later\n",
    "repo = 'dp02'\n",
    "collection = '2.2i/runs/DP0.2'"
   ]
  },
  {
   "cell_type": "code",
   "execution_count": null,
   "id": "9eaf2d2f-dd08-439e-b2a4-3bc3a4167f8d",
   "metadata": {},
   "outputs": [],
   "source": [
    "# type = 'calexp' # slow query faster get\n",
    "type = 'deepCoadd' # fast query slower get"
   ]
  },
  {
   "cell_type": "code",
   "execution_count": null,
   "id": "e837a08f-6397-46a7-96b9-47ca85ae94ee",
   "metadata": {},
   "outputs": [],
   "source": [
    "# big enough to defeat caches\n",
    "sample_size = 20000"
   ]
  },
  {
   "cell_type": "code",
   "execution_count": null,
   "id": "e943bfed-51b5-4564-ab71-4b65f6df2251",
   "metadata": {},
   "outputs": [],
   "source": [
    "butler = Butler(repo, collections=collection)"
   ]
  },
  {
   "cell_type": "code",
   "execution_count": null,
   "id": "96f52721-7f64-4163-a559-03d910870a7c",
   "metadata": {},
   "outputs": [],
   "source": [
    "# Use calexp for slow query but faster get, and \"deepCoadd\" for faster query and slower get.\n",
    "refs = butler.query_datasets(type, find_first=False, limit=sample_size)\n",
    "n = len(refs)"
   ]
  },
  {
   "cell_type": "markdown",
   "id": "a1f806ae-1b0a-4c22-a652-2f2acffef21d",
   "metadata": {
    "execution": {
     "iopub.execute_input": "2025-04-25T17:49:47.563797Z",
     "iopub.status.busy": "2025-04-25T17:49:47.562931Z",
     "iopub.status.idle": "2025-04-25T17:49:47.569336Z",
     "shell.execute_reply": "2025-04-25T17:49:47.568173Z",
     "shell.execute_reply.started": "2025-04-25T17:49:47.563757Z"
    }
   },
   "source": [
    "* Single calexp execution hybrid ~ 4 sec\n",
    "* Single coadd execution hybrid ~ 7 sec\n",
    "\n",
    "Significant variation is expected in hybrid due to Wekka cache strategy"
   ]
  },
  {
   "cell_type": "code",
   "execution_count": null,
   "id": "5c0af38b-70ab-4e5f-9709-90aff3e9e0dd",
   "metadata": {},
   "outputs": [],
   "source": [
    "i = randrange(0, n)\n",
    "print(\"lucky draw: \",i,\"/\",n,\" type:\",type)\n",
    "butler.get(refs[i])"
   ]
  },
  {
   "cell_type": "code",
   "execution_count": null,
   "id": "b76e7520-8e0e-43dd-9fb4-c1af78bf2a76",
   "metadata": {},
   "outputs": [],
   "source": []
  }
 ],
 "metadata": {
  "kernelspec": {
   "display_name": "LSST",
   "language": "python",
   "name": "lsst"
  },
  "language_info": {
   "codemirror_mode": {
    "name": "ipython",
    "version": 3
   },
   "file_extension": ".py",
   "mimetype": "text/x-python",
   "name": "python",
   "nbconvert_exporter": "python",
   "pygments_lexer": "ipython3",
   "version": "3.12.9"
  }
 },
 "nbformat": 4,
 "nbformat_minor": 5
}
