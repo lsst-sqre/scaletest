{
 "cells": [
  {
   "cell_type": "markdown",
   "id": "7c8fb025-9346-488a-aee1-2b3b0115f6e6",
   "metadata": {},
   "source": [
    "# Empty like the void"
   ]
  },
  {
   "cell_type": "markdown",
   "id": "403517f0-dc9d-41e6-baf4-0b4a6bf81b88",
   "metadata": {},
   "source": [
    "This is not the code you are looking for."
   ]
  },
  {
   "cell_type": "code",
   "execution_count": 1,
   "id": "894f0a27-e8fc-46dd-9dbf-c3ef1852dfd0",
   "metadata": {
    "execution": {
     "iopub.execute_input": "2025-05-16T20:43:07.278467Z",
     "iopub.status.busy": "2025-05-16T20:43:07.277713Z",
     "iopub.status.idle": "2025-05-16T20:43:07.282757Z",
     "shell.execute_reply": "2025-05-16T20:43:07.281804Z",
     "shell.execute_reply.started": "2025-05-16T20:43:07.278441Z"
    }
   },
   "outputs": [
    {
     "name": "stdout",
     "output_type": "stream",
     "text": [
      "2\n"
     ]
    }
   ],
   "source": [
    "print(1+1)"
   ]
  },
  {
   "cell_type": "code",
   "execution_count": null,
   "id": "d8ea0bd6-844f-4c6a-afe7-a01420e34638",
   "metadata": {},
   "outputs": [],
   "source": []
  }
 ],
 "metadata": {
  "kernelspec": {
   "display_name": "LSST",
   "language": "python",
   "name": "lsst"
  },
  "language_info": {
   "codemirror_mode": {
    "name": "ipython",
    "version": 3
   },
   "file_extension": ".py",
   "mimetype": "text/x-python",
   "name": "python",
   "nbconvert_exporter": "python",
   "pygments_lexer": "ipython3",
   "version": "3.12.10"
  }
 },
 "nbformat": 4,
 "nbformat_minor": 5
}
