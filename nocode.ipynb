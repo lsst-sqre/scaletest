{
 "cells": [
  {
   "cell_type": "markdown",
   "id": "7c8fb025-9346-488a-aee1-2b3b0115f6e6",
   "metadata": {},
   "source": [
    "# Empty like the void"
   ]
  },
  {
   "cell_type": "markdown",
   "id": "403517f0-dc9d-41e6-baf4-0b4a6bf81b88",
   "metadata": {},
   "source": [
    "This is not the code you are looking for."
   ]
  },
  {
   "cell_type": "code",
   "execution_count": 1,
   "id": "6664e9e4-9615-404f-8815-392656157b6e",
   "metadata": {
    "execution": {
     "iopub.execute_input": "2025-03-28T19:25:54.458630Z",
     "iopub.status.busy": "2025-03-28T19:25:54.458178Z",
     "iopub.status.idle": "2025-03-28T19:25:54.461522Z",
     "shell.execute_reply": "2025-03-28T19:25:54.461173Z",
     "shell.execute_reply.started": "2025-03-28T19:25:54.458610Z"
    }
   },
   "outputs": [
    {
     "data": {
      "text/plain": [
       "2"
      ]
     },
     "execution_count": 1,
     "metadata": {},
     "output_type": "execute_result"
    }
   ],
   "source": [
    "1 + 1"
   ]
  }
 ],
 "metadata": {
  "kernelspec": {
   "display_name": "Python 3 (ipykernel)",
   "language": "python",
   "name": "python3"
  },
  "language_info": {
   "codemirror_mode": {
    "name": "ipython",
    "version": 3
   },
   "file_extension": ".py",
   "mimetype": "text/x-python",
   "name": "python",
   "nbconvert_exporter": "python",
   "pygments_lexer": "ipython3",
   "version": "3.12.9"
  }
 },
 "nbformat": 4,
 "nbformat_minor": 5
}
